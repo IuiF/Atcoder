{
 "cells": [
  {
   "cell_type": "code",
   "execution_count": 129,
   "metadata": {},
   "outputs": [],
   "source": [
    "import random\n",
    "\n",
    "\n",
    "class Deck:\n",
    "    def __init__(self, num_jokers=0):\n",
    "        self.num_jokers = num_jokers\n",
    "        self.reset_deck()\n",
    "\n",
    "    def reset_deck(self):\n",
    "        self.cards = {\n",
    "            card: 1\n",
    "            for card in [\n",
    "                \"{}{}\".format(suit, rank)\n",
    "                for suit in \"♠♥♦♣\"\n",
    "                for rank in list(\"A23456789\") + [\"10\"] + list(\"JQK\")\n",
    "            ]\n",
    "        }\n",
    "        self.cards.update({\"Joker\": self.num_jokers})\n",
    "\n",
    "    def draw_card(self):\n",
    "        if not any(self.cards.values()):\n",
    "            print(\"全てのカードが引かれました。デッキをリセットしてください。\")\n",
    "            return None\n",
    "\n",
    "        card = random.choice(\n",
    "            [card for card in self.cards.keys() if self.cards[card] > 0]\n",
    "        )\n",
    "        self.cards[card] -= 1\n",
    "        return card\n",
    "\n",
    "    def show_remaining_cards(self):\n",
    "        total_remaining = sum(self.cards.values())\n",
    "        print(f\"全体で残り枚数：{total_remaining}枚\")\n",
    "\n",
    "        for card, count in self.cards.items():\n",
    "            if count > 0:\n",
    "                print(f\"{card}: {count}枚\")\n",
    "\n",
    "\n",
    "# 使用例\n",
    "deck = Deck(num_jokers=1)  # 2枚のジョーカーを含むデッキを作成"
   ]
  },
  {
   "cell_type": "code",
   "execution_count": 130,
   "metadata": {},
   "outputs": [
    {
     "name": "stdout",
     "output_type": "stream",
     "text": [
      "♥K\n"
     ]
    }
   ],
   "source": [
    "# カードを引く\n",
    "for _ in range(1):\n",
    "    print(deck.draw_card())\n"
   ]
  },
  {
   "cell_type": "code",
   "execution_count": 128,
   "metadata": {},
   "outputs": [
    {
     "name": "stdout",
     "output_type": "stream",
     "text": [
      "全体で残り枚数：141枚\n",
      "♠2: 1枚\n",
      "♠3: 1枚\n",
      "♠4: 1枚\n",
      "♠5: 1枚\n",
      "♠6: 1枚\n",
      "♠7: 1枚\n",
      "♠8: 1枚\n",
      "♠9: 1枚\n",
      "♠J: 1枚\n",
      "♠Q: 1枚\n",
      "♠K: 1枚\n",
      "♥A: 1枚\n",
      "♥3: 1枚\n",
      "♥4: 1枚\n",
      "♥5: 1枚\n",
      "♥6: 1枚\n",
      "♥7: 1枚\n",
      "♥8: 1枚\n",
      "♥9: 1枚\n",
      "♥10: 1枚\n",
      "♥J: 1枚\n",
      "♥Q: 1枚\n",
      "♥K: 1枚\n",
      "♦A: 1枚\n",
      "♦3: 1枚\n",
      "♦4: 1枚\n",
      "♦5: 1枚\n",
      "♦6: 1枚\n",
      "♦7: 1枚\n",
      "♦8: 1枚\n",
      "♦9: 1枚\n",
      "♦10: 1枚\n",
      "♦K: 1枚\n",
      "♣A: 1枚\n",
      "♣2: 1枚\n",
      "♣3: 1枚\n",
      "♣4: 1枚\n",
      "♣6: 1枚\n",
      "♣7: 1枚\n",
      "♣8: 1枚\n",
      "♣Q: 1枚\n",
      "♣K: 1枚\n",
      "Joker: 99枚\n"
     ]
    }
   ],
   "source": [
    "# 残りのカードを表示\n",
    "deck.show_remaining_cards()\n"
   ]
  },
  {
   "cell_type": "code",
   "execution_count": 3,
   "metadata": {},
   "outputs": [],
   "source": [
    "# デッキをリセット\n",
    "deck.reset_deck()"
   ]
  }
 ],
 "metadata": {
  "kernelspec": {
   "display_name": "Python 3",
   "language": "python",
   "name": "python3"
  },
  "language_info": {
   "codemirror_mode": {
    "name": "ipython",
    "version": 3
   },
   "file_extension": ".py",
   "mimetype": "text/x-python",
   "name": "python",
   "nbconvert_exporter": "python",
   "pygments_lexer": "ipython3",
   "version": "3.10.11"
  },
  "orig_nbformat": 4
 },
 "nbformat": 4,
 "nbformat_minor": 2
}
