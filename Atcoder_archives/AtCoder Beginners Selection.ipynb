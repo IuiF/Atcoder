{
 "cells": [
  {
   "cell_type": "code",
   "execution_count": 1,
   "metadata": {},
   "outputs": [
    {
     "data": {
      "application/vnd.jupyter.widget-view+json": {
       "model_id": "f8381d51b4314f14b5ce602477d5d1b8",
       "version_major": 2,
       "version_minor": 0
      },
      "text/plain": [
       "Textarea(value='', layout=Layout(height='100px', width='500px'), placeholder='')"
      ]
     },
     "metadata": {},
     "output_type": "display_data"
    }
   ],
   "source": [
    "from ipywidgets import Textarea\n",
    "\n",
    "\n",
    "def get_input(change):\n",
    "    global Input\n",
    "    Input = change[\"new\"]\n",
    "\n",
    "\n",
    "textarea = Textarea(\n",
    "    value=\"\",\n",
    "    placeholder=\"\",\n",
    "    description=\"\",\n",
    "    layout={\"width\": \"500px\", \"height\": \"100px\"},\n",
    ")\n",
    "textarea.observe(get_input, names=\"value\")\n",
    "display(textarea)"
   ]
  },
  {
   "cell_type": "code",
   "execution_count": 18,
   "metadata": {},
   "outputs": [
    {
     "name": "stdout",
     "output_type": "stream",
     "text": [
      "No\n"
     ]
    }
   ],
   "source": [
    "IN = iter(Input.split(\"\\n\")).__next__\n",
    "\n",
    "\n",
    "def input():\n",
    "    try:\n",
    "        return IN()\n",
    "    except StopIteration:\n",
    "        raise EOFError\n",
    "\n",
    "\n",
    "### 以下にコード\n",
    "\n",
    "N = int(input())\n",
    "Ans = \"Yes\"\n",
    "plans = [[0, 0, 0]]\n",
    "\n",
    "for i in range(1, N + 1):\n",
    "    plans.append(list(map(int, input().split())))\n",
    "\n",
    "    if plans[i][0] % 2 != (plans[i][1] + plans[i][2]) % 2:\n",
    "        Ans = \"No\"\n",
    "        break\n",
    "    elif (plans[i][0] - plans[i - 1][0]) < (\n",
    "        abs(plans[i][1] - plans[i - 1][1]) + abs(plans[i][2] - plans[i - 1][2])\n",
    "    ):\n",
    "        Ans = \"No\"\n",
    "        break\n",
    "\n",
    "print(Ans)\n"
   ]
  },
  {
   "cell_type": "code",
   "execution_count": 5,
   "metadata": {},
   "outputs": [
    {
     "name": "stdout",
     "output_type": "stream",
     "text": [
      "NO\n"
     ]
    }
   ],
   "source": [
    "IN = iter(Input.split(\"\\n\")).__next__\n",
    "\n",
    "\n",
    "def input():\n",
    "    try:\n",
    "        return IN()\n",
    "    except StopIteration:\n",
    "        raise EOFError\n",
    "\n",
    "\n",
    "### 以下にコード\n",
    "\n",
    "keyword = input()\n",
    "check = \"NO\"\n",
    "\n",
    "while True:\n",
    "    if keyword == \"\":\n",
    "        check = \"YES\"\n",
    "        break\n",
    "\n",
    "    if keyword[-5:] == \"dream\" or keyword[-5:] == \"erase\":\n",
    "        keyword = keyword[:-5]\n",
    "    elif keyword[-7:] == \"dreamer\":\n",
    "        keyword = keyword[:-7]\n",
    "    elif keyword[-6:] == \"eraser\":\n",
    "        keyword = keyword[:-6]\n",
    "    else:\n",
    "        break\n",
    "\n",
    "print(check)\n"
   ]
  },
  {
   "cell_type": "code",
   "execution_count": 27,
   "metadata": {},
   "outputs": [
    {
     "name": "stdout",
     "output_type": "stream",
     "text": [
      "26 0 974\n"
     ]
    }
   ],
   "source": [
    "IN = iter(Input.split(\"\\n\")).__next__\n",
    "\n",
    "\n",
    "def input():\n",
    "    try:\n",
    "        return IN()\n",
    "    except StopIteration:\n",
    "        raise EOFError\n",
    "\n",
    "\n",
    "### 以下にコード\n",
    "\n",
    "N, total = map(int, input().split())\n",
    "Ans = [-1, -1, -1]\n",
    "\n",
    "for i in range(N + 1):\n",
    "    for j in range(N + 1 - i):\n",
    "        if 10000 * i + 5000 * j + 1000 * (N - i - j) == total:\n",
    "            Ans = [i, j, N - i - j]\n",
    "\n",
    "print(*Ans)\n"
   ]
  },
  {
   "cell_type": "code",
   "execution_count": 20,
   "metadata": {},
   "outputs": [
    {
     "name": "stdout",
     "output_type": "stream",
     "text": [
      "3\n"
     ]
    }
   ],
   "source": [
    "IN = iter(Input.split(\"\\n\")).__next__\n",
    "\n",
    "\n",
    "def input():\n",
    "    try:\n",
    "        return IN()\n",
    "    except StopIteration:\n",
    "        raise EOFError\n",
    "\n",
    "\n",
    "### 以下にコード\n",
    "\n",
    "N = int(input())\n",
    "N_list = []\n",
    "\n",
    "for _ in range(N):\n",
    "    N_list.append(int(input()))\n",
    "\n",
    "N_list = list(set(N_list))\n",
    "N_list.sort(reverse=True)\n",
    "\n",
    "print(len(N_list))\n"
   ]
  },
  {
   "cell_type": "code",
   "execution_count": 16,
   "metadata": {},
   "outputs": [
    {
     "name": "stdout",
     "output_type": "stream",
     "text": [
      "18\n"
     ]
    }
   ],
   "source": [
    "IN = iter(Input.split(\"\\n\")).__next__\n",
    "\n",
    "\n",
    "def input():\n",
    "    try:\n",
    "        return IN()\n",
    "    except StopIteration:\n",
    "        raise EOFError\n",
    "\n",
    "\n",
    "### 以下にコード\n",
    "\n",
    "N = int(input())\n",
    "nums = list(map(int, input().split()))\n",
    "nums.sort(reverse=True)\n",
    "\n",
    "if N % 2 == 0:\n",
    "    Ans = sum(nums[i * 2] for i in range(N // 2)) - sum(\n",
    "        nums[i * 2 + 1] for i in range(N // 2)\n",
    "    )\n",
    "else:\n",
    "    Ans = sum(nums[i * 2] for i in range(N // 2 + 1)) - sum(\n",
    "        nums[i * 2 + 1] for i in range(N // 2)\n",
    "    )\n",
    "\n",
    "print(Ans)"
   ]
  },
  {
   "cell_type": "code",
   "execution_count": 8,
   "metadata": {},
   "outputs": [
    {
     "name": "stdout",
     "output_type": "stream",
     "text": [
      "4554\n"
     ]
    }
   ],
   "source": [
    "IN = iter(Input.split(\"\\n\")).__next__\n",
    "\n",
    "\n",
    "def input():\n",
    "    try:\n",
    "        return IN()\n",
    "    except StopIteration:\n",
    "        raise EOFError\n",
    "\n",
    "\n",
    "### 以下にコード\n",
    "\n",
    "n, a, b = map(int, input().split())\n",
    "ans: int = 0\n",
    "\n",
    "\n",
    "for i in range(n + 1):\n",
    "    tmp = 0\n",
    "    i_tmp = i\n",
    "    for j in range(len(str(i))):\n",
    "        tmp += i_tmp % 10\n",
    "        i_tmp //= 10\n",
    "    if a <= tmp <= b:\n",
    "        ans += i\n",
    "\n",
    "print(ans)"
   ]
  },
  {
   "cell_type": "code",
   "execution_count": 25,
   "metadata": {},
   "outputs": [
    {
     "name": "stdout",
     "output_type": "stream",
     "text": [
      "2\n"
     ]
    }
   ],
   "source": [
    "IN = iter(Input.split(\"\\n\")).__next__\n",
    "\n",
    "\n",
    "def input():\n",
    "    try:\n",
    "        return IN()\n",
    "    except StopIteration:\n",
    "        raise EOFError\n",
    "\n",
    "\n",
    "### 以下にコード\n",
    "\n",
    "coins500 = int(input())\n",
    "coins100 = int(input())\n",
    "coins50 = int(input())\n",
    "\n",
    "target = int(input())\n",
    "\n",
    "# コイン枚数最小の組み合わせを見つける\n",
    "\n",
    "coins = []\n",
    "\n",
    "for i in range(coins500 + 1):\n",
    "    for j in range(coins100 + 1):\n",
    "        for k in range(coins50 + 1):\n",
    "            if i * 500 + j * 100 + k * 50 == target:\n",
    "                coins.append([i, j, k])\n",
    "            elif i * 500 + j * 100 + k * 50 > target:\n",
    "                break\n",
    "\n",
    "print(len(coins))"
   ]
  },
  {
   "cell_type": "code",
   "execution_count": 14,
   "metadata": {},
   "outputs": [
    {
     "name": "stdout",
     "output_type": "stream",
     "text": [
      "2\n"
     ]
    }
   ],
   "source": [
    "IN = iter(Input.split(\"\\n\")).__next__\n",
    "\n",
    "\n",
    "def input():\n",
    "    try:\n",
    "        return IN()\n",
    "    except StopIteration:\n",
    "        raise EOFError\n",
    "\n",
    "\n",
    "### 以下にコード\n",
    "\n",
    "num = int(input())\n",
    "num_list = list(map(int, input().split()))\n",
    "Ans = 0\n",
    "\n",
    "while all(i % 2 == 0 for i in num_list):\n",
    "    num_list = [i / 2 for i in num_list]\n",
    "    Ans += 1\n",
    "\n",
    "print(Ans)"
   ]
  },
  {
   "cell_type": "code",
   "execution_count": 5,
   "metadata": {},
   "outputs": [
    {
     "name": "stdout",
     "output_type": "stream",
     "text": [
      "2\n"
     ]
    }
   ],
   "source": [
    "IN = iter(Input.split(\"\\n\")).__next__\n",
    "\n",
    "\n",
    "def input():\n",
    "    try:\n",
    "        return IN()\n",
    "    except StopIteration:\n",
    "        raise EOFError\n",
    "\n",
    "\n",
    "### 以下にコード\n",
    "\n",
    "print(input().count(\"1\"))"
   ]
  },
  {
   "cell_type": "code",
   "execution_count": 4,
   "metadata": {},
   "outputs": [
    {
     "name": "stdout",
     "output_type": "stream",
     "text": [
      "Even\n"
     ]
    }
   ],
   "source": [
    "IN = iter(Input.split(\"\\n\")).__next__\n",
    "\n",
    "\n",
    "def input():\n",
    "    try:\n",
    "        return IN()\n",
    "    except StopIteration:\n",
    "        raise EOFError\n",
    "\n",
    "\n",
    "### 以下にコード\n",
    "\n",
    "a, b = map(int, input().split())\n",
    "\n",
    "print(\"Even\" if a % 2 == 0 or b % 2 == 0 else \"Odd\")"
   ]
  },
  {
   "cell_type": "code",
   "execution_count": 3,
   "metadata": {},
   "outputs": [
    {
     "name": "stdout",
     "output_type": "stream",
     "text": [
      "6 test\n"
     ]
    }
   ],
   "source": [
    "IN = iter(Input.split(\"\\n\")).__next__\n",
    "\n",
    "\n",
    "def input():\n",
    "    try:\n",
    "        return IN()\n",
    "    except StopIteration:\n",
    "        raise EOFError\n",
    "\n",
    "\n",
    "### 以下にコード\n",
    "\n",
    "a = int(input())\n",
    "b, c = map(int, input().split())\n",
    "\n",
    "print(a + b + c, input())"
   ]
  }
 ],
 "metadata": {
  "kernelspec": {
   "display_name": "Python 3",
   "language": "python",
   "name": "python3"
  },
  "language_info": {
   "codemirror_mode": {
    "name": "ipython",
    "version": 3
   },
   "file_extension": ".py",
   "mimetype": "text/x-python",
   "name": "python",
   "nbconvert_exporter": "python",
   "pygments_lexer": "ipython3",
   "version": "3.10.11"
  },
  "orig_nbformat": 4
 },
 "nbformat": 4,
 "nbformat_minor": 2
}
