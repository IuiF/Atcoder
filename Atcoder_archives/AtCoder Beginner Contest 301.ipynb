{
 "cells": [
  {
   "cell_type": "code",
   "execution_count": 1,
   "metadata": {},
   "outputs": [
    {
     "data": {
      "application/vnd.jupyter.widget-view+json": {
       "model_id": "32b7b18cc38c4d3f8f489eb4c0b1e727",
       "version_major": 2,
       "version_minor": 0
      },
      "text/plain": [
       "VBox(children=(Textarea(value='', layout=Layout(height='100px', width='500px'), placeholder=''), Button(descri…"
      ]
     },
     "metadata": {},
     "output_type": "display_data"
    }
   ],
   "source": [
    "from ipywidgets import Textarea, Button, VBox\n",
    "\n",
    "\n",
    "def exit():\n",
    "    raise Exception(\"Exit called\")\n",
    "\n",
    "\n",
    "def get_input(change):\n",
    "    global Input\n",
    "    Input = change[\"new\"]\n",
    "\n",
    "\n",
    "def clear_input(button):\n",
    "    textarea.value = \"\"\n",
    "\n",
    "\n",
    "textarea = Textarea(\n",
    "    value=\"\",\n",
    "    placeholder=\"\",\n",
    "    description=\"\",\n",
    "    layout={\"width\": \"500px\", \"height\": \"100px\"},\n",
    ")\n",
    "textarea.observe(get_input, names=\"value\")\n",
    "\n",
    "clear_button = Button(description=\"Clear Input\")\n",
    "clear_button.on_click(clear_input)\n",
    "\n",
    "input_box = VBox([textarea, clear_button])\n",
    "display(input_box)\n"
   ]
  },
  {
   "cell_type": "code",
   "execution_count": 49,
   "metadata": {},
   "outputs": [
    {
     "name": "stdout",
     "output_type": "stream",
     "text": [
      "No\n"
     ]
    }
   ],
   "source": [
    "IN = iter(Input.split(\"\\n\")).__next__\n",
    "\n",
    "\n",
    "def input():\n",
    "    try:\n",
    "        return IN()\n",
    "    except StopIteration:\n",
    "        raise EOFError\n",
    "\n",
    "\n",
    "### 以下にコード C\n",
    "\n",
    "A = input()\n",
    "B = input()\n",
    "def_at = A.count(\"@\") - B.count(\"@\")\n",
    "\n",
    "A = A.replace(\"@\", \"\")\n",
    "B = B.replace(\"@\", \"\")\n",
    "\n",
    "A = \"\".join(sorted(A))\n",
    "B = \"\".join(sorted(B))\n",
    "\n",
    "if A == B:\n",
    "    print(\"Yes\")\n",
    "    exit()\n",
    "\n",
    "if def_at < 0:\n",
    "    for i in range(len(A)):\n",
    "        B = B.replace(A[i], \"\", 1)\n",
    "    if len(B) == abs(def_at) and len(B.translate(str.maketrans(\"atcoder\"))) == 0:\n",
    "        print(\"Yes\")\n",
    "    else:\n",
    "        print(\"No\")\n",
    "else:\n",
    "    for i in range(len(B)):\n",
    "        A = A.replace(B[i], \"\", 1)\n",
    "    if len(A) == abs(def_at) and len(A.translate(str.maketrans(\"atcoder\"))) == 0:\n",
    "        print(\"Yes\")\n",
    "    else:\n",
    "        print(\"No\")\n",
    "\n",
    "# A = A.translate(str.maketrans(\"atcoder\", \"@@@@@@@\"))\n",
    "# B = B.translate(str.maketrans(\"atcoder\", \"@@@@@@@\"))\n",
    "\n",
    "# A = \"\".join(sorted(A))\n",
    "# B = \"\".join(sorted(B))\n",
    "\n",
    "# if A == B:\n",
    "#     print(\"Yes\")\n",
    "# else:\n",
    "#     print(\"No\")\n"
   ]
  },
  {
   "cell_type": "code",
   "execution_count": 14,
   "metadata": {},
   "outputs": [
    {
     "name": "stdout",
     "output_type": "stream",
     "text": [
      "2 3 4 5 4 3 2 1 2\n"
     ]
    }
   ],
   "source": [
    "IN = iter(Input.split(\"\\n\")).__next__\n",
    "\n",
    "\n",
    "def input():\n",
    "    try:\n",
    "        return IN()\n",
    "    except StopIteration:\n",
    "        raise EOFError\n",
    "\n",
    "\n",
    "### 以下にコード B\n",
    "\n",
    "Num = int(input())\n",
    "A = list(map(int, input().split()))\n",
    "answer = []\n",
    "\n",
    "for i in range(1, Num):\n",
    "    if A[i - 1] < A[i]:\n",
    "        j = A[i - 1]\n",
    "        while j != A[i]:\n",
    "            answer.append(j)\n",
    "            j += 1\n",
    "    if A[i - 1] > A[i]:\n",
    "        j = A[i - 1]\n",
    "        while j != A[i]:\n",
    "            answer.append(j)\n",
    "            j -= 1\n",
    "answer.append(A[-1])\n",
    "\n",
    "print(*answer)"
   ]
  },
  {
   "cell_type": "code",
   "execution_count": 18,
   "metadata": {},
   "outputs": [
    {
     "name": "stdout",
     "output_type": "stream",
     "text": [
      "T\n",
      "T\n"
     ]
    }
   ],
   "source": [
    "IN = iter(Input.split(\"\\n\")).__next__\n",
    "\n",
    "\n",
    "def input():\n",
    "    try:\n",
    "        return IN()\n",
    "    except StopIteration:\n",
    "        raise EOFError\n",
    "\n",
    "\n",
    "### 以下にコード A\n",
    "\n",
    "N = int(input())\n",
    "S = tuple(input())\n",
    "win_count = N // 2 if N % 2 == 0 else N // 2 + 1\n",
    "count = [0, 0]\n",
    "\n",
    "for i in range(N):\n",
    "    if S[i] == \"T\":\n",
    "        count[0] += 1\n",
    "    elif S[i] == \"A\":\n",
    "        count[1] += 1\n",
    "\n",
    "    if count[0] == win_count:\n",
    "        print(\"T\")\n",
    "        break\n",
    "    elif count[1] == win_count:\n",
    "        print(\"A\")\n",
    "        break"
   ]
  }
 ],
 "metadata": {
  "kernelspec": {
   "display_name": "Python 3",
   "language": "python",
   "name": "python3"
  },
  "language_info": {
   "codemirror_mode": {
    "name": "ipython",
    "version": 3
   },
   "file_extension": ".py",
   "mimetype": "text/x-python",
   "name": "python",
   "nbconvert_exporter": "python",
   "pygments_lexer": "ipython3",
   "version": "3.10.11"
  },
  "orig_nbformat": 4
 },
 "nbformat": 4,
 "nbformat_minor": 2
}
