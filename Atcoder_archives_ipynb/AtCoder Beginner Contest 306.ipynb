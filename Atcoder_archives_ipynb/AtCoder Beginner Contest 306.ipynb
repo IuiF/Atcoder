{
 "cells": [
  {
   "cell_type": "code",
   "execution_count": 1,
   "metadata": {},
   "outputs": [
    {
     "data": {
      "application/vnd.jupyter.widget-view+json": {
       "model_id": "e88b5735b4f145b8873836a2ca6e2c97",
       "version_major": 2,
       "version_minor": 0
      },
      "text/plain": [
       "Textarea(value='', layout=Layout(height='100px', width='500px'), placeholder='')"
      ]
     },
     "metadata": {},
     "output_type": "display_data"
    }
   ],
   "source": [
    "from ipywidgets import Textarea\n",
    "\n",
    "\n",
    "def get_input(change):\n",
    "    global Input\n",
    "    Input = change[\"new\"]\n",
    "\n",
    "\n",
    "textarea = Textarea(\n",
    "    value=\"\",\n",
    "    placeholder=\"\",\n",
    "    description=\"\",\n",
    "    layout={\"width\": \"500px\", \"height\": \"100px\"},\n",
    ")\n",
    "textarea.observe(get_input, names=\"value\")\n",
    "display(textarea)"
   ]
  },
  {
   "cell_type": "code",
   "execution_count": 40,
   "metadata": {},
   "outputs": [
    {
     "name": "stdout",
     "output_type": "stream",
     "text": [
      "5\n",
      "6\n",
      "8\n",
      "8\n",
      "15\n",
      "13\n",
      "13\n",
      "11\n",
      "1\n",
      "0\n"
     ]
    }
   ],
   "source": [
    "IN = iter(Input.split(\"\\n\")).__next__\n",
    "\n",
    "\n",
    "def input():\n",
    "    try:\n",
    "        return IN()\n",
    "    except StopIteration:\n",
    "        raise EOFError\n",
    "\n",
    "\n",
    "### 以下にコード E TLE\n",
    "\n",
    "N, K, Q = map(int, input().split())\n",
    "\n",
    "num_list = [0] * N\n",
    "\n",
    "for i in range(Q):\n",
    "    X, Y = map(int, input().split())\n",
    "    num_list[X - 1] = Y\n",
    "    tmp = sorted(num_list, reverse=True)\n",
    "    print(sum(tmp[:K]))\n"
   ]
  },
  {
   "cell_type": "code",
   "execution_count": 39,
   "metadata": {},
   "outputs": [
    {
     "name": "stdout",
     "output_type": "stream",
     "text": [
      "5\n",
      "6\n",
      "8\n",
      "8\n",
      "15\n",
      "13\n",
      "13\n",
      "11\n",
      "1\n",
      "0\n",
      "[0, 0, 0, 0]\n"
     ]
    }
   ],
   "source": [
    "IN = iter(Input.split(\"\\n\")).__next__\n",
    "\n",
    "\n",
    "def input():\n",
    "    try:\n",
    "        return IN()\n",
    "    except StopIteration:\n",
    "        raise EOFError\n",
    "\n",
    "\n",
    "### 以下にコード E TLE\n",
    "\n",
    "N, K, Q = map(int, input().split())\n",
    "\n",
    "X = [0] * (Q + 1)\n",
    "Y = [0] * (Q + 1)\n",
    "for i in range(1, Q + 1):\n",
    "    X[i], Y[i] = map(int, input().split())\n",
    "X = tuple(X)\n",
    "Y = tuple(Y)\n",
    "\n",
    "\n",
    "num_list = [0] * N\n",
    "\n",
    "for i in range(1, Q + 1):\n",
    "    num_list[X[i] - 1] = Y[i]\n",
    "    tmp = sorted(num_list, reverse=True)\n",
    "    print(sum(tmp[:K]))\n",
    "\n",
    "# print(num_list)\n"
   ]
  },
  {
   "cell_type": "code",
   "execution_count": 22,
   "metadata": {},
   "outputs": [
    {
     "name": "stdout",
     "output_type": "stream",
     "text": [
      "600\n"
     ]
    }
   ],
   "source": [
    "IN = iter(Input.split(\"\\n\")).__next__\n",
    "\n",
    "\n",
    "def input():\n",
    "    try:\n",
    "        return IN()\n",
    "    except StopIteration:\n",
    "        raise EOFError\n",
    "\n",
    "\n",
    "### 以下にコード D\n",
    "\n",
    "num = int(input())\n",
    "X = [0] * (num + 1)\n",
    "Y = [0] * (num + 1)\n",
    "\n",
    "for i in range(1, num + 1):\n",
    "    tmp = list(input().split())\n",
    "    X[i] = int(tmp[0])\n",
    "    Y[i] = int(tmp[1])\n",
    "\n",
    "dp_table = [[0] * 2 for _ in range(num + 1)]  # 腹痛の有無\n",
    "\n",
    "for i in range(1, num + 1):\n",
    "    if X[i] == 1:\n",
    "        dp_table[i][0] = dp_table[i - 1][0]  # 食べない\n",
    "        dp_table[i][1] = max(\n",
    "            dp_table[i - 1][1], dp_table[i - 1][0] + Y[i]\n",
    "        )  # 腹痛+食べない or 非腹痛+食べる\n",
    "    elif X[i] == 0:\n",
    "        dp_table[i][0] = max(\n",
    "            dp_table[i - 1][0], dp_table[i - 1][0] + Y[i], dp_table[i - 1][1] + Y[i]\n",
    "        )  # 非腹痛+食べない or 非腹痛+食べる or 腹痛+食べる\n",
    "        dp_table[i][1] = dp_table[i - 1][1]  # 食べない\n",
    "\n",
    "print(max(dp_table[num]))\n"
   ]
  },
  {
   "cell_type": "code",
   "execution_count": 9,
   "metadata": {},
   "outputs": [
    {
     "name": "stdout",
     "output_type": "stream",
     "text": [
      "[1, 3, 2]\n"
     ]
    }
   ],
   "source": [
    "IN = iter(Input.split(\"\\n\")).__next__\n",
    "\n",
    "\n",
    "def input():\n",
    "    try:\n",
    "        return IN()\n",
    "    except StopIteration:\n",
    "        raise EOFError\n",
    "\n",
    "\n",
    "### 以下にコード C\n",
    "\n",
    "num = int(input())\n",
    "num_list = list(map(int, input().split()))\n",
    "\n",
    "count = {}\n",
    "for i in range(1, num + 1):\n",
    "    count[i] = 0\n",
    "\n",
    "ans = []\n",
    "\n",
    "for i in range(num * 3):\n",
    "    count[num_list[i]] += 1\n",
    "    if count[num_list[i]] == 2:\n",
    "        ans.append(num_list[i])\n",
    "\n",
    "print(*ans)\n"
   ]
  },
  {
   "cell_type": "code",
   "execution_count": 6,
   "metadata": {},
   "outputs": [
    {
     "name": "stdout",
     "output_type": "stream",
     "text": [
      "13\n"
     ]
    }
   ],
   "source": [
    "IN = iter(Input.split(\"\\n\")).__next__\n",
    "\n",
    "\n",
    "def input():\n",
    "    try:\n",
    "        return IN()\n",
    "    except StopIteration:\n",
    "        raise EOFError\n",
    "\n",
    "\n",
    "### 以下にコード B\n",
    "\n",
    "num_list = [int(x) for x in input().split()]\n",
    "ans = 0\n",
    "\n",
    "for i in range(len(num_list)):\n",
    "    ans += num_list[i] * (2**i)\n",
    "\n",
    "print(ans)\n"
   ]
  },
  {
   "cell_type": "code",
   "execution_count": 4,
   "metadata": {},
   "outputs": [
    {
     "name": "stdout",
     "output_type": "stream",
     "text": [
      "bbeeggiinnnneerr"
     ]
    }
   ],
   "source": [
    "IN = iter(Input.split(\"\\n\")).__next__\n",
    "\n",
    "\n",
    "def input():\n",
    "    try:\n",
    "        return IN()\n",
    "    except StopIteration:\n",
    "        raise EOFError\n",
    "\n",
    "\n",
    "### 以下にコード A\n",
    "\n",
    "num = int(input())\n",
    "S = list(input())\n",
    "\n",
    "for i in range(num):\n",
    "    print(S[i] * 2, end=\"\")"
   ]
  }
 ],
 "metadata": {
  "kernelspec": {
   "display_name": "Python 3",
   "language": "python",
   "name": "python3"
  },
  "language_info": {
   "codemirror_mode": {
    "name": "ipython",
    "version": 3
   },
   "file_extension": ".py",
   "mimetype": "text/x-python",
   "name": "python",
   "nbconvert_exporter": "python",
   "pygments_lexer": "ipython3",
   "version": "3.10.11"
  },
  "orig_nbformat": 4
 },
 "nbformat": 4,
 "nbformat_minor": 2
}
