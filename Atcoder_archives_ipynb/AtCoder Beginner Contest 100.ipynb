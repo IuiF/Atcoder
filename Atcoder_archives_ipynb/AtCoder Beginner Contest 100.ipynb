{
 "cells": [
  {
   "cell_type": "code",
   "execution_count": 1,
   "metadata": {},
   "outputs": [
    {
     "data": {
      "application/vnd.jupyter.widget-view+json": {
       "model_id": "a2b902d7fb9041a0aab607ae6288127b",
       "version_major": 2,
       "version_minor": 0
      },
      "text/plain": [
       "VBox(children=(Textarea(value='', layout=Layout(height='100px', width='500px'), placeholder=''), Button(descri…"
      ]
     },
     "metadata": {},
     "output_type": "display_data"
    }
   ],
   "source": [
    "from ipywidgets import Textarea, Button, VBox\n",
    "\n",
    "\n",
    "def exit():\n",
    "    raise Exception(\"Exit called\")\n",
    "\n",
    "\n",
    "def get_input(change):\n",
    "    global Input\n",
    "    Input = change[\"new\"]\n",
    "\n",
    "\n",
    "def clear_input(button):\n",
    "    textarea.value = \"\"\n",
    "\n",
    "\n",
    "textarea = Textarea(\n",
    "    value=\"\",\n",
    "    placeholder=\"\",\n",
    "    description=\"\",\n",
    "    layout={\"width\": \"500px\", \"height\": \"100px\"},\n",
    ")\n",
    "textarea.observe(get_input, names=\"value\")\n",
    "\n",
    "clear_button = Button(description=\"Clear Input\")\n",
    "clear_button.on_click(clear_input)\n",
    "\n",
    "input_box = VBox([textarea, clear_button])\n",
    "display(input_box)"
   ]
  },
  {
   "cell_type": "code",
   "execution_count": 5,
   "metadata": {},
   "outputs": [
    {
     "name": "stdout",
     "output_type": "stream",
     "text": [
      "[[0, 0, 0, 0], [0, 0, 0, 0], [0, 0, 0, 0], [0, 0, 0, 0], [0, 0, 0, 0], [0, 0, 0, 0]]\n",
      "[3, 1, 4]\n",
      "[3, 1, 4]\n",
      "[3, 1, 4]\n",
      "[1, 5, 9]\n",
      "[1, 5, 9]\n",
      "[1, 5, 9]\n",
      "[2, 6, 5]\n",
      "[2, 6, 5]\n",
      "[2, 6, 5]\n",
      "[3, 5, 8]\n",
      "[3, 5, 8]\n",
      "[3, 5, 8]\n",
      "[9, 7, 9]\n",
      "[9, 7, 9]\n",
      "[9, 7, 9]\n"
     ]
    }
   ],
   "source": [
    "IN = iter(Input.split(\"\\n\")).__next__\n",
    "\n",
    "\n",
    "def input():\n",
    "    try:\n",
    "        return IN()\n",
    "    except StopIteration:\n",
    "        raise EOFError\n",
    "\n",
    "\n",
    "### 以下にコード D 断念\n",
    "\n",
    "N, M = map(int, input().split())\n",
    "\n",
    "DP = [[0] * (M + 1) for _ in range(N + 1)]\n",
    "\n",
    "print(DP)\n",
    "\n",
    "for i in range(1, N + 1):\n",
    "    tmp = list(map(int, input().split()))\n",
    "    for j in range(1, M + 1):\n",
    "        DP[i][j] = max(DP[i - 1][j], DP[i - 1][j - 1])\n"
   ]
  },
  {
   "cell_type": "code",
   "execution_count": 29,
   "metadata": {},
   "outputs": [
    {
     "name": "stdout",
     "output_type": "stream",
     "text": [
      "39\n"
     ]
    }
   ],
   "source": [
    "IN = iter(Input.split(\"\\n\")).__next__\n",
    "\n",
    "\n",
    "def input():\n",
    "    try:\n",
    "        return IN()\n",
    "    except StopIteration:\n",
    "        raise EOFError\n",
    "\n",
    "\n",
    "### 以下にコード C\n",
    "\n",
    "num = int(input())\n",
    "num_tuple = tuple(map(int, input().split()))\n",
    "\n",
    "Ans = 0\n",
    "\n",
    "for i in num_tuple:\n",
    "    tmp = 0\n",
    "    while True:\n",
    "        if i / 2 == int(i / 2):\n",
    "            i /= 2\n",
    "            tmp += 1\n",
    "        else:\n",
    "            break\n",
    "    Ans += tmp\n",
    "\n",
    "print(Ans)\n"
   ]
  },
  {
   "cell_type": "code",
   "execution_count": 11,
   "metadata": {},
   "outputs": [
    {
     "name": "stdout",
     "output_type": "stream",
     "text": [
      "850000\n"
     ]
    }
   ],
   "source": [
    "IN = iter(Input.split(\"\\n\")).__next__\n",
    "\n",
    "\n",
    "def input():\n",
    "    try:\n",
    "        return IN()\n",
    "    except StopIteration:\n",
    "        raise EOFError\n",
    "\n",
    "\n",
    "### 以下にコード B\n",
    "\n",
    "A, B = map(int, input().split())\n",
    "if B == 100:\n",
    "    B = 101\n",
    "print((100**A) * B)"
   ]
  },
  {
   "cell_type": "code",
   "execution_count": 7,
   "metadata": {},
   "outputs": [
    {
     "name": "stdout",
     "output_type": "stream",
     "text": [
      ":(\n"
     ]
    }
   ],
   "source": [
    "IN = iter(Input.split(\"\\n\")).__next__\n",
    "\n",
    "\n",
    "def input():\n",
    "    try:\n",
    "        return IN()\n",
    "    except StopIteration:\n",
    "        raise EOFError\n",
    "\n",
    "\n",
    "### 以下にコード A\n",
    "\n",
    "A, B = map(int, input().split())\n",
    "if A > 8 or B > 8:\n",
    "    print(\":(\")\n",
    "else:\n",
    "    print(\"Yay!\")\n"
   ]
  }
 ],
 "metadata": {
  "kernelspec": {
   "display_name": "Python 3",
   "language": "python",
   "name": "python3"
  },
  "language_info": {
   "codemirror_mode": {
    "name": "ipython",
    "version": 3
   },
   "file_extension": ".py",
   "mimetype": "text/x-python",
   "name": "python",
   "nbconvert_exporter": "python",
   "pygments_lexer": "ipython3",
   "version": "3.10.11"
  },
  "orig_nbformat": 4
 },
 "nbformat": 4,
 "nbformat_minor": 2
}
