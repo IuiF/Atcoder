{
 "cells": [
  {
   "cell_type": "code",
   "execution_count": 1,
   "metadata": {},
   "outputs": [
    {
     "data": {
      "application/vnd.jupyter.widget-view+json": {
       "model_id": "d870e7f427cb4e5dba7d4f3dba56be00",
       "version_major": 2,
       "version_minor": 0
      },
      "text/plain": [
       "Textarea(value='')"
      ]
     },
     "metadata": {},
     "output_type": "display_data"
    }
   ],
   "source": [
    "from ipywidgets import Textarea\n",
    "\n",
    "def get_input(change):\n",
    "    global Input\n",
    "    Input = change[\"new\"]\n",
    "\n",
    "textarea = Textarea()\n",
    "textarea.observe(get_input, names='value')\n",
    "display(textarea)\n"
   ]
  },
  {
   "cell_type": "code",
   "execution_count": 56,
   "metadata": {},
   "outputs": [],
   "source": [
    "IN = iter(Input.split('\\n')).__next__\n",
    "def input():\n",
    "    return IN()\n",
    "\n",
    "### D 以下にコード\n",
    "\n"
   ]
  },
  {
   "cell_type": "code",
   "execution_count": 2,
   "metadata": {},
   "outputs": [
    {
     "name": "stdout",
     "output_type": "stream",
     "text": [
      "Yes\n",
      "No\n",
      "No\n"
     ]
    }
   ],
   "source": [
    "IN = iter(Input.split('\\n')).__next__\n",
    "def input():\n",
    "    return IN()\n",
    "\n",
    "### C 以下にコード\n",
    "\n",
    "import math\n",
    "\n",
    "N, D = map(int, input().split()) # N:人数 D:感染範囲\n",
    "\n",
    "person = [] # x, y, 感染の有無\n",
    "person.append([*map(int, input().split()), 'Yes'])\n",
    "\n",
    "for _ in range(1,N):\n",
    "    person.append([*map(int, input().split()), 'No']) # 残りの座標を追加\n",
    "\n",
    "while True:\n",
    "    tmp = False\n",
    "    for i in range(0,N):\n",
    "        for j in range(0,N):\n",
    "            if i == j:\n",
    "                continue\n",
    "            tmp_check = format(math.sqrt(\n",
    "                                        (person[i][0]-person[j][0])**2 +\n",
    "                                        (person[i][1]-person[j][1])**2\n",
    "                                        ), '.2f') # formatはstrになる\n",
    "            if float(tmp_check) <= D and ( person[i][2] == 'Yes' or person[j][2] == 'Yes' ):\n",
    "                if person[i][2] == 'No':\n",
    "                    person[i][2] = 'Yes'\n",
    "                    tmp = True\n",
    "                if person[j][2] == 'No':\n",
    "                    person[j][2] = 'Yes'\n",
    "                    tmp = True\n",
    "    if tmp != True:\n",
    "        break\n",
    "\n",
    "for k in range(N):\n",
    "    print(person[k][2])"
   ]
  },
  {
   "cell_type": "code",
   "execution_count": 29,
   "metadata": {},
   "outputs": [
    {
     "name": "stdout",
     "output_type": "stream",
     "text": [
      "20200000\n"
     ]
    }
   ],
   "source": [
    "IN = iter(Input.split('\\n')).__next__\n",
    "def input():\n",
    "    return IN()\n",
    "\n",
    "### B 以下にコード\n",
    "\n",
    "num = input()\n",
    "\n",
    "print(num[:3],'0'*(len(num)-3),sep='')"
   ]
  },
  {
   "cell_type": "code",
   "execution_count": 15,
   "metadata": {},
   "outputs": [
    {
     "name": "stdout",
     "output_type": "stream",
     "text": [
      "carol\n",
      "dave\n",
      "ellen\n",
      "alice\n",
      "bob\n"
     ]
    }
   ],
   "source": [
    "IN = iter(Input.split('\\n')).__next__\n",
    "def input():\n",
    "    return IN()\n",
    "\n",
    "### A\n",
    "\n",
    "num = int(input())\n",
    "a,b = [],[]\n",
    "for _ in range(num):\n",
    "    tmp = list(input().split())\n",
    "    a.append(tmp[0])\n",
    "    b.append(int(tmp[1]))\n",
    "\n",
    "X = b.index(min(b)) #bの最小値の位置を探す\n",
    "\n",
    "print(*a[X:],*a[:X],sep='\\n') \n"
   ]
  }
 ],
 "metadata": {
  "kernelspec": {
   "display_name": "Python 3",
   "language": "python",
   "name": "python3"
  },
  "language_info": {
   "codemirror_mode": {
    "name": "ipython",
    "version": 3
   },
   "file_extension": ".py",
   "mimetype": "text/x-python",
   "name": "python",
   "nbconvert_exporter": "python",
   "pygments_lexer": "ipython3",
   "version": "3.10.11"
  },
  "orig_nbformat": 4
 },
 "nbformat": 4,
 "nbformat_minor": 2
}
