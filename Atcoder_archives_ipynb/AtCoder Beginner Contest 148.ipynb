{
 "cells": [
  {
   "cell_type": "code",
   "execution_count": 4,
   "metadata": {},
   "outputs": [
    {
     "data": {
      "application/vnd.jupyter.widget-view+json": {
       "model_id": "8e15882e30264db3af9af47873f651f1",
       "version_major": 2,
       "version_minor": 0
      },
      "text/plain": [
       "Textarea(value='', layout=Layout(height='100px', width='500px'), placeholder='')"
      ]
     },
     "metadata": {},
     "output_type": "display_data"
    }
   ],
   "source": [
    "from ipywidgets import Textarea\n",
    "\n",
    "\n",
    "def get_input(change):\n",
    "    global Input\n",
    "    Input = change[\"new\"]\n",
    "\n",
    "\n",
    "textarea = Textarea(\n",
    "    value=\"\",\n",
    "    placeholder=\"\",\n",
    "    description=\"\",\n",
    "    layout={\"width\": \"500px\", \"height\": \"100px\"},\n",
    ")\n",
    "textarea.observe(get_input, names=\"value\")\n",
    "display(textarea)"
   ]
  },
  {
   "cell_type": "code",
   "execution_count": 10,
   "metadata": {},
   "outputs": [
    {
     "name": "stdout",
     "output_type": "stream",
     "text": [
      "1383\n"
     ]
    }
   ],
   "source": [
    "IN = iter(Input.split(\"\\n\")).__next__\n",
    "\n",
    "\n",
    "def input():\n",
    "    try:\n",
    "        return IN()\n",
    "    except StopIteration:\n",
    "        raise EOFError\n",
    "\n",
    "\n",
    "### 以下にコード E TLE\n",
    "\n",
    "num = int(input())\n",
    "Ans = 0\n",
    "\n",
    "if num % 2 == 0:\n",
    "    while num > 0:\n",
    "        if num % 10 == 0:\n",
    "            Ans += len(str(num)) - len(str(num).rstrip(\"0\"))\n",
    "        num -= 2\n",
    "\n",
    "print(Ans)"
   ]
  },
  {
   "cell_type": "code",
   "execution_count": 40,
   "metadata": {},
   "outputs": [
    {
     "name": "stdout",
     "output_type": "stream",
     "text": [
      "7\n"
     ]
    }
   ],
   "source": [
    "IN = iter(Input.split(\"\\n\")).__next__\n",
    "\n",
    "\n",
    "def input():\n",
    "    try:\n",
    "        return IN()\n",
    "    except StopIteration:\n",
    "        raise EOFError\n",
    "\n",
    "\n",
    "### 以下にコード D\n",
    "\n",
    "N = int(input())\n",
    "a_list = list(map(int, input().split()))\n",
    "\n",
    "if 1 not in a_list:\n",
    "    print(\"-1\")\n",
    "else:\n",
    "    cur = 1\n",
    "    next_idx = 0\n",
    "    for i in range(N):\n",
    "        if i < next_idx:\n",
    "            continue\n",
    "        if a_list[i] == cur:\n",
    "            cur += 1\n",
    "            next_idx = i + 1\n",
    "    print(N - cur + 1)\n"
   ]
  },
  {
   "cell_type": "code",
   "execution_count": 38,
   "metadata": {},
   "outputs": [
    {
     "name": "stdout",
     "output_type": "stream",
     "text": [
      "0\n"
     ]
    }
   ],
   "source": [
    "IN = iter(Input.split(\"\\n\")).__next__\n",
    "\n",
    "\n",
    "def input():\n",
    "    try:\n",
    "        return IN()\n",
    "    except StopIteration:\n",
    "        raise EOFError\n",
    "\n",
    "\n",
    "### 以下にコード D TLE\n",
    "\n",
    "N = int(input())\n",
    "a_list = list(map(int, input().split()))\n",
    "ans = N\n",
    "\n",
    "if a_list.count(1) == 0:\n",
    "    print(\"-1\")\n",
    "    exit()\n",
    "\n",
    "for i in range(N):\n",
    "    try:\n",
    "        tmp = a_list.index(i + 1)\n",
    "        a_list = a_list[tmp:]\n",
    "        ans -= 1\n",
    "    except ValueError:\n",
    "        break\n",
    "\n",
    "print(ans)\n"
   ]
  },
  {
   "cell_type": "code",
   "execution_count": 22,
   "metadata": {},
   "outputs": [
    {
     "name": "stdout",
     "output_type": "stream",
     "text": [
      "6\n"
     ]
    }
   ],
   "source": [
    "IN = iter(Input.split(\"\\n\")).__next__\n",
    "\n",
    "\n",
    "def input():\n",
    "    try:\n",
    "        return IN()\n",
    "    except StopIteration:\n",
    "        raise EOFError\n",
    "\n",
    "\n",
    "### 以下にコード C\n",
    "import math\n",
    "\n",
    "a, b = map(int, input().split())\n",
    "Ans = a * b // math.gcd(a, b)  # math.lcmは3.9以降にしかないためREを吐く\n",
    "\n",
    "print(Ans)"
   ]
  },
  {
   "cell_type": "code",
   "execution_count": 14,
   "metadata": {},
   "outputs": [
    {
     "name": "stdout",
     "output_type": "stream",
     "text": [
      "aaaaaaaaaa\n"
     ]
    }
   ],
   "source": [
    "IN = iter(Input.split(\"\\n\")).__next__\n",
    "\n",
    "\n",
    "def input():\n",
    "    try:\n",
    "        return IN()\n",
    "    except StopIteration:\n",
    "        raise EOFError\n",
    "\n",
    "\n",
    "### 以下にコード B\n",
    "\n",
    "num = int(input())\n",
    "s, t = input().split()\n",
    "print(*[f\"{s[i]}{t[i]}\" for i in range(num)], sep=\"\")\n"
   ]
  },
  {
   "cell_type": "code",
   "execution_count": 6,
   "metadata": {},
   "outputs": [
    {
     "name": "stdout",
     "output_type": "stream",
     "text": [
      "2\n"
     ]
    }
   ],
   "source": [
    "IN = iter(Input.split(\"\\n\")).__next__\n",
    "\n",
    "\n",
    "def input():\n",
    "    try:\n",
    "        return IN()\n",
    "    except StopIteration:\n",
    "        raise EOFError\n",
    "\n",
    "\n",
    "### 以下にコード A\n",
    "\n",
    "abc = \"123\"\n",
    "for _ in range(2):\n",
    "    tmp = input()\n",
    "    if tmp == \"1\":\n",
    "        abc = abc.replace(\"1\", \"\")\n",
    "    elif tmp == \"2\":\n",
    "        abc = abc.replace(\"2\", \"\")\n",
    "    else:\n",
    "        abc = abc.replace(\"3\", \"\")\n",
    "\n",
    "print(abc)\n"
   ]
  }
 ],
 "metadata": {
  "kernelspec": {
   "display_name": "Python 3",
   "language": "python",
   "name": "python3"
  },
  "language_info": {
   "codemirror_mode": {
    "name": "ipython",
    "version": 3
   },
   "file_extension": ".py",
   "mimetype": "text/x-python",
   "name": "python",
   "nbconvert_exporter": "python",
   "pygments_lexer": "ipython3",
   "version": "3.10.11"
  },
  "orig_nbformat": 4
 },
 "nbformat": 4,
 "nbformat_minor": 2
}
