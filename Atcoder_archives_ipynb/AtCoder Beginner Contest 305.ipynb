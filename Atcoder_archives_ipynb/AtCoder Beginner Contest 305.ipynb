{
 "cells": [
  {
   "cell_type": "code",
   "execution_count": 25,
   "metadata": {},
   "outputs": [
    {
     "data": {
      "application/vnd.jupyter.widget-view+json": {
       "model_id": "58790d665f8d4966b7d6e71270b46151",
       "version_major": 2,
       "version_minor": 0
      },
      "text/plain": [
       "Textarea(value='')"
      ]
     },
     "metadata": {},
     "output_type": "display_data"
    }
   ],
   "source": [
    "from ipywidgets import Textarea\n",
    "\n",
    "def get_input(change):\n",
    "    global Input\n",
    "    Input = change[\"new\"]\n",
    "\n",
    "textarea = Textarea()\n",
    "textarea.observe(get_input, names='value')\n",
    "display(textarea)\n"
   ]
  },
  {
   "cell_type": "code",
   "execution_count": 88,
   "metadata": {},
   "outputs": [
    {
     "name": "stdout",
     "output_type": "stream",
     "text": [
      "1\n",
      "2\n",
      "0\n"
     ]
    }
   ],
   "source": [
    "IN = iter(Input.split('\\n')).__next__\n",
    "def input():\n",
    "    return IN()\n",
    "\n",
    "### 以下にコード D\n",
    "\n",
    "N = int(input()) # 7 \n",
    "awake_check = [] # [0, 1, 0, 1, 0, 1]\n",
    "Time = list(map(int, input().split())) # [0, 240, 720, 1320, 1440, 1800, 2160]\n",
    "Q = int(input()) # 3 \n",
    "Q_list = [] # [[480, 1920], [720, 1200], [0, 2160]]\n",
    "\n",
    "for _ in range(Q):\n",
    "    Q_list.append(list(map(int, input().split())))\n",
    "\n",
    "for i in range(N-1):\n",
    "    awake_check.append(i%2)\n",
    "\n",
    "for i in range(Q):\n",
    "    for j in range(N):\n",
    "        if Time[j] <= Q_list[i][0] < Time[j+1]:\n",
    "            print(j)\n",
    "\n",
    "\n",
    "# 途中\n",
    "# print(awake_check)"
   ]
  },
  {
   "cell_type": "code",
   "execution_count": 70,
   "metadata": {},
   "outputs": [
    {
     "name": "stdout",
     "output_type": "stream",
     "text": [
      "2 5\n"
     ]
    }
   ],
   "source": [
    "IN = iter(Input.split('\\n')).__next__\n",
    "def input():\n",
    "    return IN()\n",
    "\n",
    "### 以下にコード C\n",
    "\n",
    "h, w = map(int, input().split())\n",
    "grid, cookie = [], []\n",
    "x, y = 0, 0\n",
    "\n",
    "for i in range(h):\n",
    "    grid.append(input())\n",
    "    cookie.append(grid[i].count('#')) \n",
    "\n",
    "y = cookie.index(max(cookie)-1) \n",
    "\n",
    "for i, c in enumerate(grid[y]):\n",
    "    if c == '.' and ((y > 0 and grid[y-1][i] == '#') or (y < h-1 and grid[y+1][i] == '#')): # 上下の端でエラーが起きてた\n",
    "        x = i\n",
    "\n",
    "print(y+1, x+1)"
   ]
  },
  {
   "cell_type": "code",
   "execution_count": 36,
   "metadata": {},
   "outputs": [
    {
     "name": "stdout",
     "output_type": "stream",
     "text": [
      "10\n"
     ]
    }
   ],
   "source": [
    "IN = iter(Input.split('\\n')).__next__\n",
    "def input():\n",
    "    return IN()\n",
    "\n",
    "### 以下にコード B\n",
    "\n",
    "distance = [3, 1, 4, 1, 5, 9, 0]\n",
    "p, q = input().split()\n",
    "\n",
    "p = ord(p) - 65\n",
    "q = ord(q) - 65\n",
    "\n",
    "if p <= q:\n",
    "    ans = sum(distance[p:q])\n",
    "else:\n",
    "    ans = sum(distance[q:p])\n",
    "\n",
    "print(ans)\n"
   ]
  },
  {
   "cell_type": "code",
   "execution_count": 7,
   "metadata": {},
   "outputs": [
    {
     "name": "stdout",
     "output_type": "stream",
     "text": [
      "100\n"
     ]
    }
   ],
   "source": [
    "IN = iter(Input.split('\\n')).__next__\n",
    "def input():\n",
    "    return IN()\n",
    "\n",
    "### 以下にコード A\n",
    "\n",
    "now_p = list(input())\n",
    "\n",
    "if (0 <= int(now_p[-1]) <= 2) or (8 <= int(now_p[-1]) <= 9):\n",
    "    now_p[-1] = '0'\n",
    "else:\n",
    "    now_p[-1] = '5'\n",
    "    \n",
    "print(*now_p,sep='')\n",
    "\n",
    "\n"
   ]
  }
 ],
 "metadata": {
  "kernelspec": {
   "display_name": "Python 3",
   "language": "python",
   "name": "python3"
  },
  "language_info": {
   "codemirror_mode": {
    "name": "ipython",
    "version": 3
   },
   "file_extension": ".py",
   "mimetype": "text/x-python",
   "name": "python",
   "nbconvert_exporter": "python",
   "pygments_lexer": "ipython3",
   "version": "3.10.11"
  },
  "orig_nbformat": 4
 },
 "nbformat": 4,
 "nbformat_minor": 2
}
