{
 "cells": [
  {
   "cell_type": "code",
   "execution_count": 1,
   "metadata": {},
   "outputs": [
    {
     "data": {
      "application/vnd.jupyter.widget-view+json": {
       "model_id": "2992d6806c96445cbbed6395bc52f4e3",
       "version_major": 2,
       "version_minor": 0
      },
      "text/plain": [
       "VBox(children=(Textarea(value='', layout=Layout(height='100px', width='500px'), placeholder=''), Button(descri…"
      ]
     },
     "metadata": {},
     "output_type": "display_data"
    }
   ],
   "source": [
    "from ipywidgets import Textarea, Button, VBox\n",
    "\n",
    "\n",
    "def exit():\n",
    "    raise Exception(\"Exit called\")\n",
    "\n",
    "\n",
    "def get_input(change):\n",
    "    global Input\n",
    "    Input = change[\"new\"]\n",
    "\n",
    "\n",
    "def clear_input(button):\n",
    "    textarea.value = \"\"\n",
    "\n",
    "\n",
    "textarea = Textarea(\n",
    "    value=\"\",\n",
    "    placeholder=\"\",\n",
    "    description=\"\",\n",
    "    layout={\"width\": \"500px\", \"height\": \"100px\"},\n",
    ")\n",
    "textarea.observe(get_input, names=\"value\")\n",
    "\n",
    "clear_button = Button(description=\"Clear Input\")\n",
    "clear_button.on_click(clear_input)\n",
    "\n",
    "input_box = VBox([textarea, clear_button])\n",
    "display(input_box)"
   ]
  },
  {
   "cell_type": "code",
   "execution_count": null,
   "metadata": {},
   "outputs": [],
   "source": [
    "IN = iter(Input.split(\"\\n\")).__next__\n",
    "\n",
    "\n",
    "def input():\n",
    "    try:\n",
    "        return IN()\n",
    "    except StopIteration:\n",
    "        raise EOFError\n",
    "\n",
    "\n",
    "### 以下にコード A WA\n",
    "\n",
    "\n",
    "T = int(input())\n",
    "\n",
    "for i in range(T):\n",
    "    Num = int(input())\n",
    "    First_res = [i + 1 for i in range(Num)]\n",
    "    result = list(map(int, input().split()))\n",
    "    can_win = [True for _ in range(Num)]\n",
    "    count = 0\n",
    "\n",
    "    for j in range(Num):\n",
    "        if result[j] - (1 + j) < 0:\n",
    "            can_win[j] = False\n",
    "        elif result[j] - (1 + j) == 0 and max(result[: j + 1]) > result[j]:\n",
    "            can_win[j] = False\n",
    "\n",
    "    # print(can_win)\n",
    "    print(can_win.count(1) if sum(can_win) != 0 else Num)"
   ]
  },
  {
   "cell_type": "code",
   "execution_count": 58,
   "metadata": {},
   "outputs": [
    {
     "name": "stdout",
     "output_type": "stream",
     "text": [
      "1\n",
      "4\n",
      "7\n"
     ]
    }
   ],
   "source": [
    "IN = iter(Input.split(\"\\n\")).__next__\n",
    "\n",
    "\n",
    "def input():\n",
    "    try:\n",
    "        return IN()\n",
    "    except StopIteration:\n",
    "        raise EOFError\n",
    "\n",
    "\n",
    "### 以下にコード A WA\n",
    "\n",
    "T = int(input())\n",
    "\n",
    "for i in range(T):\n",
    "    Num = int(input())\n",
    "    First_res = [i + 1 for i in range(Num)]\n",
    "    result = list(map(int, input().split()))\n",
    "    can_win = [True for _ in range(Num)]\n",
    "    count = 0\n",
    "\n",
    "    for j in range(Num):\n",
    "        if result[j] - (1 + j) < 0:\n",
    "            can_win[j] = False\n",
    "        elif result[j] - (1 + j) == 0 and max(result[: j + 1]) > result[j]:\n",
    "            can_win[j] = False\n",
    "\n",
    "    # print(can_win)\n",
    "    print(can_win.count(1) if sum(can_win) != 0 else Num)\n"
   ]
  },
  {
   "cell_type": "code",
   "execution_count": 43,
   "metadata": {},
   "outputs": [
    {
     "name": "stdout",
     "output_type": "stream",
     "text": [
      "[True, False]\n",
      "1\n",
      "[False, False, False, False]\n",
      "4\n",
      "[True, False, True, False, False, True, False, False, True, False, True, False, False, False, True, False, True, False, False, False]\n",
      "7\n"
     ]
    }
   ],
   "source": [
    "IN = iter(Input.split(\"\\n\")).__next__\n",
    "\n",
    "\n",
    "def input():\n",
    "    try:\n",
    "        return IN()\n",
    "    except StopIteration:\n",
    "        raise EOFError\n",
    "\n",
    "\n",
    "### 以下にコード A WA\n",
    "\n",
    "T = int(input())\n",
    "\n",
    "for i in range(T):\n",
    "    Num = int(input())\n",
    "    First_res = [i + 1 for i in range(Num)]\n",
    "    result = list(map(int, input().split()))\n",
    "    can_win = [True for _ in range(Num)]\n",
    "    count = 0\n",
    "\n",
    "    for j in range(Num):\n",
    "        if result[j] - (1 + j) < 0:\n",
    "            can_win[j] = False\n",
    "\n",
    "    # print(can_win)\n",
    "    print(can_win.count(1) if sum(can_win) != 0 else Num)"
   ]
  }
 ],
 "metadata": {
  "kernelspec": {
   "display_name": "Python 3",
   "language": "python",
   "name": "python3"
  },
  "language_info": {
   "codemirror_mode": {
    "name": "ipython",
    "version": 3
   },
   "file_extension": ".py",
   "mimetype": "text/x-python",
   "name": "python",
   "nbconvert_exporter": "python",
   "pygments_lexer": "ipython3",
   "version": "3.10.11"
  },
  "orig_nbformat": 4
 },
 "nbformat": 4,
 "nbformat_minor": 2
}
