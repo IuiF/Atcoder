{
 "cells": [
  {
   "cell_type": "code",
   "execution_count": 1,
   "metadata": {},
   "outputs": [
    {
     "data": {
      "application/vnd.jupyter.widget-view+json": {
       "model_id": "b5ef9d8ce4d64c8192a82148eaf4ff79",
       "version_major": 2,
       "version_minor": 0
      },
      "text/plain": [
       "Textarea(value='', layout=Layout(height='100px', width='500px'), placeholder='')"
      ]
     },
     "metadata": {},
     "output_type": "display_data"
    }
   ],
   "source": [
    "from ipywidgets import Textarea\n",
    "\n",
    "\n",
    "def get_input(change):\n",
    "    global Input\n",
    "    Input = change[\"new\"]\n",
    "\n",
    "\n",
    "textarea = Textarea(\n",
    "    value=\"\",\n",
    "    placeholder=\"\",\n",
    "    description=\"\",\n",
    "    layout={\"width\": \"500px\", \"height\": \"100px\"},\n",
    ")\n",
    "textarea.observe(get_input, names=\"value\")\n",
    "display(textarea)\n"
   ]
  },
  {
   "cell_type": "code",
   "execution_count": 43,
   "metadata": {},
   "outputs": [
    {
     "name": "stdout",
     "output_type": "stream",
     "text": [
      "WSW 5\n"
     ]
    }
   ],
   "source": [
    "IN = iter(Input.split(\"\\n\")).__next__\n",
    "\n",
    "\n",
    "def input():\n",
    "    try:\n",
    "        return IN()\n",
    "    except StopIteration:\n",
    "        raise EOFError\n",
    "\n",
    "\n",
    "### 以下にコード  C pypy MLE python3 AC\n",
    "from decimal import Decimal, ROUND_HALF_UP\n",
    "\n",
    "Deg, Dis = map(float, input().split())\n",
    "\n",
    "Dir = \"\"\n",
    "W = 0\n",
    "Deg /= 10\n",
    "Dis = float(Decimal(str(Dis / 60)).quantize(Decimal(\"0.1\"), rounding=ROUND_HALF_UP))\n",
    "\n",
    "if Deg < 11.25:\n",
    "    Dir = \"N\"\n",
    "elif 11.25 <= Deg < 33.75:\n",
    "    Dir = \"NNE\"\n",
    "elif 33.75 <= Deg < 56.25:\n",
    "    Dir = \"NE\"\n",
    "elif 56.25 <= Deg < 78.75:\n",
    "    Dir = \"ENE\"\n",
    "elif 78.75 <= Deg < 101.25:\n",
    "    Dir = \"E\"\n",
    "elif 101.25 <= Deg < 123.75:\n",
    "    Dir = \"ESE\"\n",
    "elif 123.75 <= Deg < 146.25:\n",
    "    Dir = \"SE\"\n",
    "elif 146.25 <= Deg < 168.75:\n",
    "    Dir = \"SSE\"\n",
    "elif 168.75 <= Deg < 191.25:\n",
    "    Dir = \"S\"\n",
    "elif 191.25 <= Deg < 213.75:\n",
    "    Dir = \"SSW\"\n",
    "elif 213.75 <= Deg < 236.25:\n",
    "    Dir = \"SW\"\n",
    "elif 236.25 <= Deg < 258.75:\n",
    "    Dir = \"WSW\"\n",
    "elif 258.75 <= Deg < 281.25:\n",
    "    Dir = \"W\"\n",
    "elif 281.25 <= Deg < 303.75:\n",
    "    Dir = \"WNW\"\n",
    "elif 303.75 <= Deg < 326.25:\n",
    "    Dir = \"NW\"\n",
    "elif 326.25 <= Deg < 348.75:\n",
    "    Dir = \"NNW\"\n",
    "else:\n",
    "    Dir = \"N\"\n",
    "\n",
    "if 0 <= Dis <= 0.2:\n",
    "    W = 0\n",
    "elif 0.3 <= Dis <= 1.5:\n",
    "    W = 1\n",
    "elif 1.6 <= Dis <= 3.3:\n",
    "    W = 2\n",
    "elif 3.4 <= Dis <= 5.4:\n",
    "    W = 3\n",
    "elif 5.5 <= Dis <= 7.9:\n",
    "    W = 4\n",
    "elif 8.0 <= Dis <= 10.7:\n",
    "    W = 5\n",
    "elif 10.8 <= Dis <= 13.8:\n",
    "    W = 6\n",
    "elif 13.9 <= Dis <= 17.1:\n",
    "    W = 7\n",
    "elif 17.2 <= Dis <= 20.7:\n",
    "    W = 8\n",
    "elif 20.8 <= Dis <= 24.4:\n",
    "    W = 9\n",
    "elif 24.5 <= Dis <= 28.4:\n",
    "    W = 10\n",
    "elif 28.5 <= Dis <= 32.6:\n",
    "    W = 11\n",
    "elif 32.7 <= Dis:\n",
    "    W = 12\n",
    "\n",
    "if W == 0:\n",
    "    Dir = \"C\"\n",
    "\n",
    "# print(Deg)\n",
    "print(Dir, W)\n"
   ]
  },
  {
   "cell_type": "code",
   "execution_count": 6,
   "metadata": {},
   "outputs": [
    {
     "name": "stdout",
     "output_type": "stream",
     "text": [
      "02\n"
     ]
    }
   ],
   "source": [
    "IN = iter(Input.split(\"\\n\")).__next__\n",
    "\n",
    "\n",
    "def input():\n",
    "    try:\n",
    "        return IN()\n",
    "    except StopIteration:\n",
    "        raise EOFError\n",
    "\n",
    "\n",
    "### 以下にコード  B\n",
    "\n",
    "x = float(input()) / 1000\n",
    "ans = \"00\"\n",
    "\n",
    "if 0.1 <= x <= 5:\n",
    "    x *= 10\n",
    "elif 6 <= x <= 30:\n",
    "    x += 50\n",
    "elif 35 <= x <= 70:\n",
    "    x -= 30\n",
    "    x /= 5\n",
    "    x += 80\n",
    "elif 70 < x:\n",
    "    x = 89\n",
    "\n",
    "ans = \"{:02d}\".format(int(x))\n",
    "\n",
    "print(ans)"
   ]
  },
  {
   "cell_type": "code",
   "execution_count": 3,
   "metadata": {},
   "outputs": [
    {
     "name": "stdout",
     "output_type": "stream",
     "text": [
      "5\n"
     ]
    }
   ],
   "source": [
    "IN = iter(Input.split(\"\\n\")).__next__\n",
    "\n",
    "\n",
    "def input():\n",
    "    try:\n",
    "        return IN()\n",
    "    except StopIteration:\n",
    "        raise EOFError\n",
    "\n",
    "\n",
    "### 以下にコード A\n",
    "\n",
    "\n",
    "print(int(input()) - int(input()))"
   ]
  }
 ],
 "metadata": {
  "kernelspec": {
   "display_name": "Python 3",
   "language": "python",
   "name": "python3"
  },
  "language_info": {
   "codemirror_mode": {
    "name": "ipython",
    "version": 3
   },
   "file_extension": ".py",
   "mimetype": "text/x-python",
   "name": "python",
   "nbconvert_exporter": "python",
   "pygments_lexer": "ipython3",
   "version": "3.10.11"
  },
  "orig_nbformat": 4
 },
 "nbformat": 4,
 "nbformat_minor": 2
}
