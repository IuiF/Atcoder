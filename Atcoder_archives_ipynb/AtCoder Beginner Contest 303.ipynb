{
 "cells": [
  {
   "cell_type": "code",
   "execution_count": 1,
   "metadata": {},
   "outputs": [
    {
     "data": {
      "application/vnd.jupyter.widget-view+json": {
       "model_id": "a38a7c92267243678551aa471bc223c1",
       "version_major": 2,
       "version_minor": 0
      },
      "text/plain": [
       "Textarea(value='', layout=Layout(height='100px', width='500px'), placeholder='')"
      ]
     },
     "metadata": {},
     "output_type": "display_data"
    }
   ],
   "source": [
    "from ipywidgets import Textarea\n",
    "\n",
    "\n",
    "def get_input(change):\n",
    "    global Input\n",
    "    Input = change[\"new\"]\n",
    "\n",
    "\n",
    "textarea = Textarea(\n",
    "    value=\"\",\n",
    "    placeholder=\"\",\n",
    "    description=\"\",\n",
    "    layout={\"width\": \"500px\", \"height\": \"100px\"},\n",
    ")\n",
    "textarea.observe(get_input, names=\"value\")\n",
    "display(textarea)\n"
   ]
  },
  {
   "attachments": {},
   "cell_type": "markdown",
   "metadata": {},
   "source": [
    "listはマジで遅い\n",
    "setはマジで早い\n"
   ]
  },
  {
   "cell_type": "code",
   "execution_count": 18,
   "metadata": {},
   "outputs": [
    {
     "name": "stdout",
     "output_type": "stream",
     "text": [
      "No\n"
     ]
    }
   ],
   "source": [
    "IN = iter(Input.split(\"\\n\")).__next__\n",
    "\n",
    "\n",
    "def input():\n",
    "    try:\n",
    "        return IN()\n",
    "    except StopIteration:\n",
    "        raise EOFError\n",
    "\n",
    "\n",
    "### 以下にコード C\n",
    "now = [0, 0]\n",
    "N, M, H, K = map(int, input().split())\n",
    "move_list = list(input())\n",
    "cure_list = set()\n",
    "for _ in range(M):\n",
    "    cure_list.add(tuple(map(int, input().split())))\n",
    "\n",
    "ans = \"No\"\n",
    "\n",
    "for i in range(N):\n",
    "    # move\n",
    "    if move_list[i] == \"U\":\n",
    "        now[1] += 1\n",
    "    elif move_list[i] == \"R\":\n",
    "        now[0] += 1\n",
    "    elif move_list[i] == \"D\":\n",
    "        now[1] -= 1\n",
    "    else:\n",
    "        now[0] -= 1\n",
    "\n",
    "    # Health -1\n",
    "    H -= 1\n",
    "\n",
    "    if H < 0:\n",
    "        break\n",
    "\n",
    "    if tuple(now) in cure_list and H < K:\n",
    "        cure_list.remove(tuple(now))\n",
    "        H = K\n",
    "\n",
    "    if i == N - 1:\n",
    "        ans = \"Yes\"\n",
    "\n",
    "\n",
    "print(ans)\n"
   ]
  },
  {
   "cell_type": "code",
   "execution_count": 43,
   "metadata": {},
   "outputs": [
    {
     "name": "stdout",
     "output_type": "stream",
     "text": [
      "2\n"
     ]
    }
   ],
   "source": [
    "IN = iter(Input.split(\"\\n\")).__next__\n",
    "\n",
    "\n",
    "def input():\n",
    "    try:\n",
    "        return IN()\n",
    "    except StopIteration:\n",
    "        raise EOFError\n",
    "\n",
    "\n",
    "### 以下にコード B\n",
    "from itertools import combinations\n",
    "\n",
    "N, M = map(int, input().split())\n",
    "\n",
    "peoples = list(range(1, N + 1))\n",
    "Discord_list = list(combinations(peoples, 2))\n",
    "check_list = []\n",
    "\n",
    "for _ in range(M):\n",
    "    tmp_list = list(map(int, input().split()))\n",
    "    for i in range(N - 1):\n",
    "        tmp = [tmp_list[i], tmp_list[i + 1]]\n",
    "        tmp.sort()\n",
    "\n",
    "        check_list.append(tuple(tmp))\n",
    "\n",
    "\n",
    "check_list = list(set(check_list))\n",
    "\n",
    "for i in check_list:\n",
    "    Discord_list.remove(i)\n",
    "\n",
    "print(len(Discord_list))\n"
   ]
  },
  {
   "cell_type": "code",
   "execution_count": 4,
   "metadata": {},
   "outputs": [
    {
     "name": "stdout",
     "output_type": "stream",
     "text": [
      "Yes\n"
     ]
    }
   ],
   "source": [
    "IN = iter(Input.split(\"\\n\")).__next__\n",
    "\n",
    "\n",
    "def input():\n",
    "    try:\n",
    "        return IN()\n",
    "    except StopIteration:\n",
    "        raise EOFError\n",
    "\n",
    "\n",
    "### 以下にコード A\n",
    "\n",
    "num = int(input())\n",
    "X = input()\n",
    "Y = input()\n",
    "\n",
    "X = X.replace(\"1\", \"l\").replace(\"0\", \"o\")\n",
    "Y = Y.replace(\"1\", \"l\").replace(\"0\", \"o\")\n",
    "\n",
    "print(\"Yes\" if X == Y else \"No\")\n"
   ]
  }
 ],
 "metadata": {
  "kernelspec": {
   "display_name": "Python 3",
   "language": "python",
   "name": "python3"
  },
  "language_info": {
   "codemirror_mode": {
    "name": "ipython",
    "version": 3
   },
   "file_extension": ".py",
   "mimetype": "text/x-python",
   "name": "python",
   "nbconvert_exporter": "python",
   "pygments_lexer": "ipython3",
   "version": "3.10.11"
  },
  "orig_nbformat": 4
 },
 "nbformat": 4,
 "nbformat_minor": 2
}
