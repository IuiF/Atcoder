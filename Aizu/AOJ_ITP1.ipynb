{
 "cells": [
  {
   "cell_type": "code",
   "execution_count": 2,
   "metadata": {},
   "outputs": [
    {
     "data": {
      "application/vnd.jupyter.widget-view+json": {
       "model_id": "bf5f5d05de664f45abc192a2f77973b4",
       "version_major": 2,
       "version_minor": 0
      },
      "text/plain": [
       "Textarea(value='', layout=Layout(height='100px', width='500px'), placeholder='')"
      ]
     },
     "metadata": {},
     "output_type": "display_data"
    }
   ],
   "source": [
    "from ipywidgets import Textarea\n",
    "\n",
    "\n",
    "def get_input(change):\n",
    "    global Input\n",
    "    Input = change[\"new\"]\n",
    "    if not Input.endswith(\"\\n\"):\n",
    "        Input += \"\\n\"\n",
    "\n",
    "\n",
    "textarea = Textarea(\n",
    "    value=\"\",\n",
    "    placeholder=\"\",\n",
    "    description=\"\",\n",
    "    layout={\"width\": \"500px\", \"height\": \"100px\"},\n",
    ")\n",
    "textarea.observe(get_input, names=\"value\")\n",
    "display(textarea)"
   ]
  },
  {
   "cell_type": "code",
   "execution_count": 137,
   "metadata": {},
   "outputs": [
    {
     "name": "stdout",
     "output_type": "stream",
     "text": [
      "4.0\n",
      "2.449489742783178\n",
      "2.154434690031884\n",
      "2\n"
     ]
    }
   ],
   "source": [
    "IN = iter(Input.split(\"\\n\")).__next__\n",
    "\n",
    "\n",
    "def input():\n",
    "    try:\n",
    "        return IN()\n",
    "    except StopIteration:\n",
    "        raise EOFError\n",
    "\n",
    "\n",
    "### 以下にコード 10_D\n",
    "\n",
    "\n",
    "def Minkowski_distance(x, y, p):\n",
    "    ans = pow((abs(x - y)), p)\n",
    "    return ans\n",
    "\n",
    "\n",
    "n = int(input())\n",
    "\n",
    "x = list(map(int, input().split()))\n",
    "y = list(map(int, input().split()))\n",
    "\n",
    "Ans_ch: float = 0.0\n",
    "\n",
    "for i in range(1, 4):\n",
    "    Ans: float = 0.0\n",
    "    for j in range(n):\n",
    "        Ans += Minkowski_distance(x[j], y[j], i)\n",
    "        Ans_ch = max(Ans_ch, abs(x[j] - y[j]))\n",
    "    Ans = pow(Ans, (1 / i))\n",
    "    print(Ans)\n",
    "print(Ans_ch)"
   ]
  },
  {
   "cell_type": "code",
   "execution_count": 109,
   "metadata": {},
   "outputs": [
    {
     "name": "stdout",
     "output_type": "stream",
     "text": [
      "27.85677655436824\n",
      "0.0\n"
     ]
    }
   ],
   "source": [
    "IN = iter(Input.split(\"\\n\")).__next__\n",
    "\n",
    "\n",
    "def input():\n",
    "    try:\n",
    "        return IN()\n",
    "    except StopIteration:\n",
    "        raise EOFError\n",
    "\n",
    "\n",
    "### 以下にコード 10_C\n",
    "import math\n",
    "\n",
    "while True:\n",
    "    num = int(input())\n",
    "\n",
    "    if num == 0:\n",
    "        break\n",
    "\n",
    "    num_list: float = list(map(float, input().split()))\n",
    "    num_avg: float\n",
    "\n",
    "    tmp_ave = sum(num_list) / len(num_list)\n",
    "    tmp: float = 0.0\n",
    "\n",
    "    for i in range(len(num_list)):\n",
    "        tmp += (num_list[i] - tmp_ave) ** 2\n",
    "\n",
    "    Ans = math.sqrt(tmp / len(num_list))\n",
    "\n",
    "    print(Ans)"
   ]
  },
  {
   "cell_type": "code",
   "execution_count": 104,
   "metadata": {},
   "outputs": [
    {
     "name": "stdout",
     "output_type": "stream",
     "text": [
      "6.0 12.0 3.0\n"
     ]
    }
   ],
   "source": [
    "IN = iter(Input.split(\"\\n\")).__next__\n",
    "\n",
    "\n",
    "def input():\n",
    "    try:\n",
    "        return IN()\n",
    "    except StopIteration:\n",
    "        raise EOFError\n",
    "\n",
    "\n",
    "### 以下にコード 10_B\n",
    "import math\n",
    "\n",
    "a, b, c = map(float, input().split())\n",
    "rad_c: float = math.radians(c)\n",
    "\n",
    "S: float = a * b * math.sin(rad_c) / 2\n",
    "h: float = S * 2 / a\n",
    "L: float = math.sqrt(a**2 + b**2 - (2 * a * b * math.cos(rad_c))) + a + b\n",
    "\n",
    "\n",
    "print(S, L, h)"
   ]
  },
  {
   "cell_type": "code",
   "execution_count": 91,
   "metadata": {},
   "outputs": [
    {
     "name": "stdout",
     "output_type": "stream",
     "text": [
      "1.4142135623730951\n"
     ]
    }
   ],
   "source": [
    "IN = iter(Input.split(\"\\n\")).__next__\n",
    "\n",
    "\n",
    "def input():\n",
    "    try:\n",
    "        return IN()\n",
    "    except StopIteration:\n",
    "        raise EOFError\n",
    "\n",
    "\n",
    "### 以下にコード 10_A\n",
    "import math\n",
    "\n",
    "Ans: float\n",
    "num = list(map(float, input().split()))\n",
    "\n",
    "print(math.sqrt((num[0] - num[2]) ** 2 + (num[1] - num[3]) ** 2))"
   ]
  },
  {
   "cell_type": "code",
   "execution_count": 87,
   "metadata": {},
   "outputs": [
    {
     "name": "stdout",
     "output_type": "stream",
     "text": [
      "xaze\n"
     ]
    }
   ],
   "source": [
    "IN = iter(Input.split(\"\\n\")).__next__\n",
    "\n",
    "\n",
    "def input():\n",
    "    try:\n",
    "        return IN()\n",
    "    except StopIteration:\n",
    "        raise EOFError\n",
    "\n",
    "\n",
    "### 以下にコード 9_D\n",
    "\n",
    "word = list(input())\n",
    "\n",
    "for _ in range(int(input())):\n",
    "    tmp = input().split()\n",
    "    tmp[1], tmp[2] = int(tmp[1]), int(tmp[2])\n",
    "\n",
    "    if tmp[0] == \"replace\":\n",
    "        word[tmp[1] : tmp[2] + 1] = list(tmp[3])\n",
    "    elif tmp[0] == \"reverse\":\n",
    "        tmp_w = word[tmp[1] : tmp[2] + 1][::-1]\n",
    "        word[tmp[1] : tmp[2] + 1] = tmp_w\n",
    "    else:\n",
    "        print(*word[tmp[1] : tmp[2] + 1], sep=\"\")"
   ]
  },
  {
   "cell_type": "code",
   "execution_count": 44,
   "metadata": {},
   "outputs": [
    {
     "name": "stdout",
     "output_type": "stream",
     "text": [
      "11 20\n"
     ]
    }
   ],
   "source": [
    "IN = iter(Input.split(\"\\n\")).__next__\n",
    "\n",
    "\n",
    "def input():\n",
    "    try:\n",
    "        return IN()\n",
    "    except StopIteration:\n",
    "        raise EOFError\n",
    "\n",
    "\n",
    "### 以下にコード 9_C\n",
    "\n",
    "points = [0, 0]\n",
    "num = int(input())\n",
    "\n",
    "for _ in range(num):\n",
    "    a, b = input().split()\n",
    "\n",
    "    if a == b:\n",
    "        points[0] += 1\n",
    "        points[1] += 1\n",
    "    elif a < b:\n",
    "        points[1] += 3\n",
    "    else:\n",
    "        points[0] += 3\n",
    "\n",
    "print(*points)"
   ]
  },
  {
   "cell_type": "code",
   "execution_count": 30,
   "metadata": {},
   "outputs": [
    {
     "name": "stdout",
     "output_type": "stream",
     "text": [
      "aabc\n",
      "xyzvw\n"
     ]
    }
   ],
   "source": [
    "IN = iter(Input.split(\"\\n\")).__next__\n",
    "\n",
    "\n",
    "def input():\n",
    "    try:\n",
    "        return IN()\n",
    "    except StopIteration:\n",
    "        raise EOFError\n",
    "\n",
    "\n",
    "### 以下にコード 9_B\n",
    "\n",
    "while True:\n",
    "    Ans = input()\n",
    "\n",
    "    if Ans == \"-\":\n",
    "        break\n",
    "\n",
    "    len_Ans = len(Ans)\n",
    "    Ans += Ans\n",
    "\n",
    "    num = int(input())\n",
    "    tmp = 0\n",
    "\n",
    "    for _ in range(num):\n",
    "        tmp += int(input())\n",
    "\n",
    "    Ans = Ans[tmp % len_Ans : tmp % len_Ans + len_Ans]\n",
    "\n",
    "    print(Ans)\n"
   ]
  },
  {
   "cell_type": "code",
   "execution_count": 16,
   "metadata": {},
   "outputs": [
    {
     "name": "stdout",
     "output_type": "stream",
     "text": [
      "50\n"
     ]
    }
   ],
   "source": [
    "IN = iter(Input.split(\"\\n\")).__next__\n",
    "\n",
    "\n",
    "def input():\n",
    "    try:\n",
    "        return IN()\n",
    "    except StopIteration:\n",
    "        raise EOFError\n",
    "\n",
    "\n",
    "### 以下にコード 9_A\n",
    "\n",
    "keyword = input()\n",
    "counter = 0\n",
    "\n",
    "while True:\n",
    "    words = input()\n",
    "\n",
    "    if words == \"END_OF_TEXT\":\n",
    "        break\n",
    "\n",
    "    words = words.lower().split()\n",
    "\n",
    "    counter += words.count(keyword)\n",
    "\n",
    "print(counter)\n"
   ]
  },
  {
   "cell_type": "code",
   "execution_count": 7,
   "metadata": {},
   "outputs": [
    {
     "name": "stdout",
     "output_type": "stream",
     "text": [
      "Yes\n"
     ]
    }
   ],
   "source": [
    "IN = iter(Input.split(\"\\n\")).__next__\n",
    "\n",
    "\n",
    "def input():\n",
    "    try:\n",
    "        return IN()\n",
    "    except StopIteration:\n",
    "        raise EOFError\n",
    "\n",
    "\n",
    "### 以下にコード 8_D\n",
    "\n",
    "words = input()\n",
    "check = input()\n",
    "\n",
    "words += words[: len(words) - 1]\n",
    "\n",
    "print(\"Yes\" if words.count(check) > 0 else \"No\")\n"
   ]
  },
  {
   "cell_type": "code",
   "execution_count": 5,
   "metadata": {},
   "outputs": [
    {
     "name": "stdout",
     "output_type": "stream",
     "text": [
      "a : 1\n",
      "b : 0\n",
      "c : 0\n",
      "d : 1\n",
      "e : 0\n",
      "f : 0\n",
      "g : 0\n",
      "h : 0\n",
      "i : 0\n",
      "j : 0\n",
      "k : 0\n",
      "l : 0\n",
      "m : 0\n",
      "n : 0\n",
      "o : 0\n",
      "p : 0\n",
      "q : 0\n",
      "r : 0\n",
      "s : 1\n",
      "t : 0\n",
      "u : 0\n",
      "v : 0\n",
      "w : 0\n",
      "x : 0\n",
      "y : 0\n",
      "z : 0\n"
     ]
    }
   ],
   "source": [
    "IN = iter(Input.split(\"\\n\")).__next__\n",
    "\n",
    "\n",
    "def input():\n",
    "    try:\n",
    "        return IN()\n",
    "    except StopIteration:\n",
    "        raise EOFError\n",
    "\n",
    "\n",
    "### 以下にコード 8_C\n",
    "\n",
    "Ans = [0 for _ in range(26)]\n",
    "\n",
    "while True:\n",
    "    try:\n",
    "        tmp = input().lower()\n",
    "\n",
    "        for i in range(len(tmp)):\n",
    "            if \"a\" <= tmp[i] <= \"z\":\n",
    "                Ans[ord(tmp[i]) - ord(\"a\")] += 1\n",
    "\n",
    "    except EOFError:\n",
    "        break\n",
    "\n",
    "for i in range(26):\n",
    "    print(f\"{chr(i+97)} : {Ans[i]}\")"
   ]
  },
  {
   "cell_type": "code",
   "execution_count": 21,
   "metadata": {},
   "outputs": [
    {
     "name": "stdout",
     "output_type": "stream",
     "text": [
      "6\n",
      "10\n",
      "1\n"
     ]
    }
   ],
   "source": [
    "IN = iter(Input.split(\"\\n\")).__next__\n",
    "\n",
    "\n",
    "def input():\n",
    "    return IN()\n",
    "\n",
    "\n",
    "### 以下にコード 8_B\n",
    "\n",
    "while True:\n",
    "    num = input()\n",
    "\n",
    "    if num == \"0\":\n",
    "        break\n",
    "\n",
    "    Ans = 0\n",
    "    for i in num:\n",
    "        Ans += int(i)\n",
    "\n",
    "    print(Ans)"
   ]
  },
  {
   "cell_type": "code",
   "execution_count": 17,
   "metadata": {},
   "outputs": [
    {
     "name": "stdout",
     "output_type": "stream",
     "text": [
      "Fair, later, occasionally cloudy.\n"
     ]
    }
   ],
   "source": [
    "IN = iter(Input.split(\"\\n\")).__next__\n",
    "\n",
    "\n",
    "def input():\n",
    "    return IN()\n",
    "\n",
    "\n",
    "### 以下にコード 8_A\n",
    "\n",
    "print(input().swapcase())\n"
   ]
  },
  {
   "cell_type": "code",
   "execution_count": 15,
   "metadata": {},
   "outputs": [
    {
     "name": "stdout",
     "output_type": "stream",
     "text": [
      "6 2 16 12\n",
      "4 0 11 7\n"
     ]
    }
   ],
   "source": [
    "IN = iter(Input.split(\"\\n\")).__next__\n",
    "\n",
    "\n",
    "def input():\n",
    "    return IN()\n",
    "\n",
    "\n",
    "### 以下にコード 7_D\n",
    "\n",
    "n, m, l = map(int, input().split())\n",
    "x, y = [], []\n",
    "\n",
    "for _ in range(n):\n",
    "    x.append(list(map(int, input().split())))\n",
    "\n",
    "for _ in range(m):\n",
    "    y.append(list(map(int, input().split())))\n",
    "\n",
    "Ans = [[0 for _ in range(l)] for _ in range(n)]\n",
    "\n",
    "for i in range(n):\n",
    "    for j in range(l):\n",
    "        for k in range(m):\n",
    "            Ans[i][j] += x[i][k] * y[k][j]\n",
    "\n",
    "for i in range(n):\n",
    "    print(*Ans[i])\n"
   ]
  },
  {
   "cell_type": "code",
   "execution_count": 27,
   "metadata": {},
   "outputs": [
    {
     "name": "stdout",
     "output_type": "stream",
     "text": [
      "1 1 3 4 5 14\n",
      "2 2 2 4 5 15\n",
      "3 3 0 1 1 8\n",
      "2 3 4 4 6 19\n",
      "8 9 9 13 17 56\n"
     ]
    }
   ],
   "source": [
    "IN = iter(Input.split(\"\\n\")).__next__\n",
    "\n",
    "\n",
    "def input():\n",
    "    return IN()\n",
    "\n",
    "\n",
    "### 以下にコード 7_C\n",
    "\n",
    "r, c = map(int, input().split())\n",
    "Ans = []\n",
    "\n",
    "for i in range(r):\n",
    "    row = list(map(int, input().split()))\n",
    "    row.append(sum(row))\n",
    "    Ans.append(row)\n",
    "\n",
    "tmp = [0 for _ in range(c + 1)]\n",
    "\n",
    "for i in range(r):\n",
    "    for j in range(c + 1):\n",
    "        tmp[j] += Ans[i][j]\n",
    "\n",
    "Ans.append(tmp)\n",
    "\n",
    "for i in range(r + 1):\n",
    "    print(*Ans[i])"
   ]
  },
  {
   "cell_type": "code",
   "execution_count": 40,
   "metadata": {},
   "outputs": [
    {
     "name": "stdout",
     "output_type": "stream",
     "text": [
      "2\n"
     ]
    }
   ],
   "source": [
    "IN = iter(Input.split(\"\\n\")).__next__\n",
    "\n",
    "\n",
    "def input():\n",
    "    return IN()\n",
    "\n",
    "\n",
    "### 以下にコード 7_B\n",
    "while True:\n",
    "    n, x = map(int, input().split())\n",
    "    Ans = 0\n",
    "\n",
    "    if n == x == 0:\n",
    "        break\n",
    "\n",
    "    for i in range(1, n + 1):\n",
    "        for j in range(i + 1, n + 1):\n",
    "            for k in range(j + 1, n + 1):\n",
    "                if i < j < k and (i + j + k) == x:\n",
    "                    Ans += 1\n",
    "\n",
    "    print(Ans)\n"
   ]
  },
  {
   "cell_type": "code",
   "execution_count": 25,
   "metadata": {},
   "outputs": [
    {
     "name": "stdout",
     "output_type": "stream",
     "text": [
      "A\n",
      "B\n",
      "B\n",
      "B\n",
      "C\n",
      "F\n"
     ]
    }
   ],
   "source": [
    "IN = iter(Input.split(\"\\n\")).__next__\n",
    "\n",
    "\n",
    "def input():\n",
    "    return IN()\n",
    "\n",
    "\n",
    "### 以下にコード 7_A\n",
    "\n",
    "while True:\n",
    "    a, b, c = map(int, input().split())\n",
    "\n",
    "    if a == b == c == -1:\n",
    "        break\n",
    "    if a == -1 or b == -1:\n",
    "        print(\"F\")\n",
    "    elif a + b >= 80:\n",
    "        print(\"A\")\n",
    "    elif a + b >= 65:\n",
    "        print(\"B\")\n",
    "    elif a + b >= 50:\n",
    "        print(\"C\")\n",
    "    elif a + b >= 30:\n",
    "        print(\"C\" if c >= 50 else \"D\")\n",
    "    else:\n",
    "        print(\"F\")\n"
   ]
  },
  {
   "cell_type": "code",
   "execution_count": 20,
   "metadata": {},
   "outputs": [
    {
     "name": "stdout",
     "output_type": "stream",
     "text": [
      "5\n",
      "6\n",
      "9\n"
     ]
    }
   ],
   "source": [
    "IN = iter(Input.split(\"\\n\")).__next__\n",
    "\n",
    "\n",
    "def input():\n",
    "    return IN()\n",
    "\n",
    "\n",
    "### 以下にコード 6_D\n",
    "\n",
    "a, b = map(int, input().split())\n",
    "\n",
    "x, y = [], []\n",
    "\n",
    "for _ in range(a):\n",
    "    x.append(list(map(int, input().split())))\n",
    "\n",
    "for _ in range(b):\n",
    "    y.append(int(input()))\n",
    "\n",
    "for i in range(a):\n",
    "    Ans = 0\n",
    "    for j in range(b):\n",
    "        Ans += x[i][j] * y[j]\n",
    "    print(Ans)\n"
   ]
  },
  {
   "cell_type": "code",
   "execution_count": 14,
   "metadata": {},
   "outputs": [
    {
     "name": "stdout",
     "output_type": "stream",
     "text": [
      " 0 0 8 0 0 0 0 0 0 0\n",
      " 0 0 0 0 0 0 0 0 0 0\n",
      " 0 0 0 0 0 0 0 0 0 0\n",
      "####################\n",
      " 0 0 0 0 0 0 0 0 0 0\n",
      " 0 0 0 0 0 0 0 0 0 0\n",
      " 0 0 0 0 0 0 0 0 0 0\n",
      "####################\n",
      " 0 0 0 0 0 0 0 0 0 0\n",
      " 0 7 0 0 0 0 0 0 0 0\n",
      " 0 0 0 0 0 0 0 0 0 0\n",
      "####################\n",
      " 0 0 0 0 0 0 0 0 0 0\n",
      " 0 0 0 0 0 0 0 0 0 0\n",
      " 0 0 0 0 0 0 0 1 0 0\n"
     ]
    }
   ],
   "source": [
    "IN = iter(Input.split(\"\\n\")).__next__\n",
    "\n",
    "\n",
    "def input():\n",
    "    return IN()\n",
    "\n",
    "\n",
    "### 以下にコード 6_C\n",
    "\n",
    "check_list = [[[0 for i in range(10)] for j in range(3)] for j in range(4)]\n",
    "\n",
    "for _ in range(int(input())):\n",
    "    a, b, c, d = map(int, input().split())\n",
    "\n",
    "    check_list[a - 1][b - 1][c - 1] += d\n",
    "\n",
    "for i in range(4):\n",
    "    for j in range(3):\n",
    "        for k in range(10):\n",
    "            print(f\" {check_list[i][j][k]}\", end=\"\")\n",
    "        print()\n",
    "    if i != 3:\n",
    "        print(\"#\" * 20)"
   ]
  },
  {
   "cell_type": "code",
   "execution_count": 43,
   "metadata": {},
   "outputs": [
    {
     "name": "stdout",
     "output_type": "stream",
     "text": [
      "\n"
     ]
    }
   ],
   "source": [
    "IN = iter(Input.split(\"\\n\")).__next__\n",
    "\n",
    "\n",
    "def input():\n",
    "    return IN()\n",
    "\n",
    "\n",
    "### 以下にコード 6_B\n",
    "\n",
    "check_list = [[0 for i in range(13)] for j in range(4)]\n",
    "\n",
    "mark = {\"S\": 1, \"H\": 2, \"C\": 3, \"D\": 4}\n",
    "rev_mark = {1: \"S\", 2: \"H\", 3: \"C\", 4: \"D\"}\n",
    "num = int(input())\n",
    "cards = []\n",
    "\n",
    "for i in range(num):\n",
    "    cards.append(list(input().split()))\n",
    "    cards[i][0] = mark[cards[i][0]]\n",
    "    cards[i][1] = int(cards[i][1])\n",
    "\n",
    "    check_list[cards[i][0] - 1][cards[i][1] - 1] = 1\n",
    "\n",
    "zero_pos = [\n",
    "    [i, j] for i, row in enumerate(check_list) for j, val in enumerate(row) if val == 0\n",
    "]\n",
    "\n",
    "for i in range(len(zero_pos)):\n",
    "    zero_pos[i][0] = zero_pos[i][0] + 1\n",
    "    zero_pos[i][0] = rev_mark[zero_pos[i][0]]\n",
    "    zero_pos[i][1] = str(zero_pos[i][1] + 1)\n",
    "\n",
    "if num == 52:\n",
    "    print(\"\", end=\"\")\n",
    "else:\n",
    "    print(*(f\"{item[0]} {item[1]}\" for item in zero_pos), sep=\"\\n\")"
   ]
  },
  {
   "cell_type": "code",
   "execution_count": 8,
   "metadata": {},
   "outputs": [
    {
     "name": "stdout",
     "output_type": "stream",
     "text": [
      "86 212 419 10 627 51 515 113 758 838\n"
     ]
    }
   ],
   "source": [
    "IN = iter(Input.split(\"\\n\")).__next__\n",
    "\n",
    "\n",
    "def input():\n",
    "    return IN()\n",
    "\n",
    "\n",
    "### 以下にコード 6_A\n",
    "\n",
    "\n",
    "num = input()\n",
    "num_list = list(map(int, input().split()))\n",
    "\n",
    "print(*num_list[::-1], sep=\" \")"
   ]
  },
  {
   "cell_type": "code",
   "execution_count": 24,
   "metadata": {},
   "outputs": [
    {
     "name": "stdout",
     "output_type": "stream",
     "text": [
      " 3 6 9 12 13 15 18 21 23 24 27 30 31 32 33 34 35 36 37 38 39 42 43 45 48 51 53 54 57 60 "
     ]
    }
   ],
   "source": [
    "IN = iter(Input.split(\"\\n\")).__next__\n",
    "\n",
    "\n",
    "def input():\n",
    "    return IN()\n",
    "\n",
    "\n",
    "### 以下にコード 5_D\n",
    "\n",
    "a = int(input())\n",
    "i = 1\n",
    "print(\" \", end=\"\")\n",
    "\n",
    "while a >= i:\n",
    "    if i % 3 == 0:\n",
    "        print(i, end=\" \")\n",
    "    elif i % 10 == 3:\n",
    "        print(i, end=\" \")\n",
    "    elif str(i).count(\"3\") > 0:\n",
    "        print(i, end=\" \")\n",
    "\n",
    "    i += 1\n"
   ]
  },
  {
   "cell_type": "code",
   "execution_count": 11,
   "metadata": {},
   "outputs": [
    {
     "name": "stdout",
     "output_type": "stream",
     "text": [
      "#.#.\n",
      ".#.#\n",
      "#.#.\n",
      "\n",
      "#.#.#.\n",
      ".#.#.#\n",
      "#.#.#.\n",
      ".#.#.#\n",
      "#.#.#.\n",
      "\n",
      "#.#\n",
      ".#.\n",
      "#.#\n",
      "\n"
     ]
    }
   ],
   "source": [
    "IN = iter(Input.split(\"\\n\")).__next__\n",
    "\n",
    "\n",
    "def input():\n",
    "    return IN()\n",
    "\n",
    "\n",
    "### 以下にコード 5_C\n",
    "while True:\n",
    "    H, W = map(int, input().split())\n",
    "\n",
    "    if H == W == 0:\n",
    "        break\n",
    "\n",
    "    for i in range(H):\n",
    "        for j in range(W):\n",
    "            if i % 2 == 0 and j % 2 == 0:\n",
    "                print(\"#\", end=\"\")\n",
    "            elif i % 2 == 0 and j % 2 == 1:\n",
    "                print(\".\", end=\"\")\n",
    "            elif i % 2 == 1 and j % 2 == 0:\n",
    "                print(\".\", end=\"\")\n",
    "            else:\n",
    "                print(\"#\", end=\"\")\n",
    "        print()\n",
    "    print()\n"
   ]
  },
  {
   "cell_type": "code",
   "execution_count": 8,
   "metadata": {},
   "outputs": [
    {
     "name": "stdout",
     "output_type": "stream",
     "text": [
      "####\n",
      "#..#\n",
      "####\n",
      "\n",
      "######\n",
      "#....#\n",
      "#....#\n",
      "#....#\n",
      "######\n",
      "\n",
      "###\n",
      "#.#\n",
      "###\n",
      "\n"
     ]
    }
   ],
   "source": [
    "IN = iter(Input.split(\"\\n\")).__next__\n",
    "\n",
    "\n",
    "def input():\n",
    "    return IN()\n",
    "\n",
    "\n",
    "### 以下にコード 5_B\n",
    "\n",
    "while True:\n",
    "    H, W = map(int, input().split())\n",
    "\n",
    "    if H == W == 0:\n",
    "        break\n",
    "\n",
    "    for _ in range(W):\n",
    "        print(\"#\", end=\"\")\n",
    "    print(\"\")\n",
    "\n",
    "    for _ in range(H - 2):\n",
    "        print(\"#\", end=\"\")\n",
    "        for _ in range(W - 2):\n",
    "            print(\".\", end=\"\")\n",
    "        print(\"#\", end=\"\")\n",
    "        print(\"\")\n",
    "\n",
    "    for _ in range(W):\n",
    "        print(\"#\", end=\"\")\n",
    "    print(\"\")\n",
    "\n",
    "    print(\"\")\n"
   ]
  },
  {
   "cell_type": "code",
   "execution_count": 7,
   "metadata": {},
   "outputs": [
    {
     "name": "stdout",
     "output_type": "stream",
     "text": [
      "####\n",
      "####\n",
      "####\n",
      "\n",
      "######\n",
      "######\n",
      "######\n",
      "######\n",
      "######\n",
      "\n",
      "##\n",
      "##\n",
      "\n"
     ]
    }
   ],
   "source": [
    "IN = iter(Input.split(\"\\n\")).__next__\n",
    "\n",
    "\n",
    "def input():\n",
    "    return IN()\n",
    "\n",
    "\n",
    "### 以下にコード 5_A\n",
    "\n",
    "while True:\n",
    "    a, b = map(int, input().split())\n",
    "\n",
    "    if a == b == 0:\n",
    "        break\n",
    "\n",
    "    for _ in range(a):\n",
    "        for _ in range(b):\n",
    "            print(\"#\", end=\"\")\n",
    "        print(\"\")\n",
    "\n",
    "    print(\"\")\n"
   ]
  },
  {
   "cell_type": "code",
   "execution_count": 3,
   "metadata": {},
   "outputs": [
    {
     "name": "stdout",
     "output_type": "stream",
     "text": [
      "1 17 37\n"
     ]
    }
   ],
   "source": [
    "IN = iter(Input.split(\"\\n\")).__next__\n",
    "\n",
    "\n",
    "def input():\n",
    "    return IN()\n",
    "\n",
    "\n",
    "### 以下にコード 4_D\n",
    "\n",
    "input()\n",
    "list_a = list(map(int, input().split()))\n",
    "print(min(list_a), max(list_a), sum(list_a))\n"
   ]
  },
  {
   "cell_type": "code",
   "execution_count": 9,
   "metadata": {},
   "outputs": [
    {
     "name": "stdout",
     "output_type": "stream",
     "text": [
      "3\n",
      "38\n",
      "26\n",
      "10\n",
      "108\n"
     ]
    }
   ],
   "source": [
    "IN = iter(Input.split(\"\\n\")).__next__\n",
    "\n",
    "\n",
    "def input():\n",
    "    return IN()\n",
    "\n",
    "\n",
    "### 以下にコード 4_C\n",
    "\n",
    "while True:\n",
    "    a, op, b = input().split()\n",
    "    a = int(a)\n",
    "    b = int(b)\n",
    "\n",
    "    if op == \"?\":\n",
    "        break\n",
    "\n",
    "    if op == \"+\":\n",
    "        print(a + b)\n",
    "    elif op == \"-\":\n",
    "        print(a - b)\n",
    "    elif op == \"/\":\n",
    "        print(a // b)\n",
    "    else:\n",
    "        print(a * b)\n"
   ]
  },
  {
   "cell_type": "code",
   "execution_count": 7,
   "metadata": {},
   "outputs": [
    {
     "name": "stdout",
     "output_type": "stream",
     "text": [
      "28.274334 18.849556\n"
     ]
    }
   ],
   "source": [
    "IN = iter(Input.split(\"\\n\")).__next__\n",
    "\n",
    "\n",
    "def input():\n",
    "    return IN()\n",
    "\n",
    "\n",
    "### 以下にコード 4_B\n",
    "\n",
    "pi = 3.141592653589\n",
    "a = float(input())\n",
    "\n",
    "print(\"{:.6f}\".format(a**2 * pi), \"{:.6f}\".format(a * 2 * pi))\n"
   ]
  },
  {
   "cell_type": "code",
   "execution_count": 18,
   "metadata": {},
   "outputs": [
    {
     "name": "stdout",
     "output_type": "stream",
     "text": [
      "1 1 1.50000\n"
     ]
    }
   ],
   "source": [
    "IN = iter(Input.split(\"\\n\")).__next__\n",
    "\n",
    "\n",
    "def input():\n",
    "    return IN()\n",
    "\n",
    "\n",
    "### 以下にコード 4_A\n",
    "\n",
    "\n",
    "a, b = map(int, input().split())\n",
    "print(a // b, a % b, (\"{:.5f}\".format(a / b)))\n"
   ]
  }
 ],
 "metadata": {
  "kernelspec": {
   "display_name": "Python 3",
   "language": "python",
   "name": "python3"
  },
  "language_info": {
   "codemirror_mode": {
    "name": "ipython",
    "version": 3
   },
   "file_extension": ".py",
   "mimetype": "text/x-python",
   "name": "python",
   "nbconvert_exporter": "python",
   "pygments_lexer": "ipython3",
   "version": "3.10.11"
  },
  "orig_nbformat": 4
 },
 "nbformat": 4,
 "nbformat_minor": 2
}
