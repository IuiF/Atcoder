{
 "cells": [
  {
   "cell_type": "code",
   "execution_count": 1,
   "metadata": {},
   "outputs": [
    {
     "data": {
      "application/vnd.jupyter.widget-view+json": {
       "model_id": "88835384c2fa4358878db7c1096b8757",
       "version_major": 2,
       "version_minor": 0
      },
      "text/plain": [
       "Textarea(value='', layout=Layout(height='100px', width='500px'), placeholder='')"
      ]
     },
     "metadata": {},
     "output_type": "display_data"
    }
   ],
   "source": [
    "from ipywidgets import Textarea, Button, HBox, VBox\n",
    "\n",
    "\n",
    "def get_input(change):\n",
    "    global Input\n",
    "    Input = change[\"new\"]\n",
    "\n",
    "\n",
    "def exit():\n",
    "    raise Exception(\"Exit called\")\n",
    "\n",
    "\n",
    "def clear_input(button):\n",
    "    textarea.value = \"\"\n",
    "\n",
    "\n",
    "textarea = Textarea(\n",
    "    value=\"\",\n",
    "    placeholder=\"\",\n",
    "    description=\"\",\n",
    "    layout={\"width\": \"500px\", \"height\": \"100px\"},\n",
    ")\n",
    "textarea.observe(get_input, names=\"value\")\n",
    "\n",
    "clear_button = Button(description=\"Clear Input\")\n",
    "clear_button.on_click(clear_input)\n",
    "\n",
    "input_box = VBox([textarea, clear_button])\n",
    "display(input_box)"
   ]
  },
  {
   "cell_type": "code",
   "execution_count": 7,
   "metadata": {},
   "outputs": [
    {
     "name": "stdout",
     "output_type": "stream",
     "text": [
      "P4124\n"
     ]
    }
   ],
   "source": [
    "IN = iter(Input.split(\"\\n\")).__next__\n",
    "\n",
    "\n",
    "def input():\n",
    "    try:\n",
    "        return IN()\n",
    "    except StopIteration:\n",
    "        raise EOFError\n",
    "\n",
    "\n",
    "### 以下にコード"
   ]
  }
 ],
 "metadata": {
  "kernelspec": {
   "display_name": "Python 3",
   "language": "python",
   "name": "python3"
  },
  "language_info": {
   "codemirror_mode": {
    "name": "ipython",
    "version": 3
   },
   "file_extension": ".py",
   "mimetype": "text/x-python",
   "name": "python",
   "nbconvert_exporter": "python",
   "pygments_lexer": "ipython3",
   "version": "3.10.11"
  },
  "orig_nbformat": 4
 },
 "nbformat": 4,
 "nbformat_minor": 2
}
