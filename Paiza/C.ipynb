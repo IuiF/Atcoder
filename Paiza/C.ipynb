{
 "cells": [
  {
   "cell_type": "code",
   "execution_count": 9,
   "metadata": {},
   "outputs": [
    {
     "data": {
      "application/vnd.jupyter.widget-view+json": {
       "model_id": "70d97a1795e64457a8bb4a84253cc5f2",
       "version_major": 2,
       "version_minor": 0
      },
      "text/plain": [
       "VBox(children=(Textarea(value='', layout=Layout(height='100px', width='500px'), placeholder=''), Button(descri…"
      ]
     },
     "metadata": {},
     "output_type": "display_data"
    }
   ],
   "source": [
    "from ipywidgets import Textarea, Button, HBox, VBox\n",
    "\n",
    "\n",
    "def get_input(change):\n",
    "    global Input\n",
    "    Input = change[\"new\"]\n",
    "\n",
    "\n",
    "def exit():\n",
    "    raise Exception(\"Exit called\")\n",
    "\n",
    "\n",
    "def clear_input(button):\n",
    "    textarea.value = \"\"\n",
    "\n",
    "\n",
    "textarea = Textarea(\n",
    "    value=\"\",\n",
    "    placeholder=\"\",\n",
    "    description=\"\",\n",
    "    layout={\"width\": \"500px\", \"height\": \"100px\"},\n",
    ")\n",
    "textarea.observe(get_input, names=\"value\")\n",
    "\n",
    "clear_button = Button(description=\"Clear Input\")\n",
    "clear_button.on_click(clear_input)\n",
    "\n",
    "input_box = VBox([textarea, clear_button])\n",
    "display(input_box)"
   ]
  },
  {
   "cell_type": "code",
   "execution_count": null,
   "metadata": {},
   "outputs": [],
   "source": [
    "IN = iter(Input.split(\"\\n\")).__next__\n",
    "\n",
    "\n",
    "def input():\n",
    "    try:\n",
    "        return IN()\n",
    "    except StopIteration:\n",
    "        raise EOFError\n",
    "\n",
    "\n",
    "### 以下にコード\n"
   ]
  },
  {
   "cell_type": "code",
   "execution_count": 15,
   "metadata": {},
   "outputs": [
    {
     "name": "stdout",
     "output_type": "stream",
     "text": [
      "1700 30\n",
      "1200 80\n",
      "900 110\n",
      "900 10\n",
      "800 20\n"
     ]
    }
   ],
   "source": [
    "IN = iter(Input.split(\"\\n\")).__next__\n",
    "\n",
    "\n",
    "def input():\n",
    "    try:\n",
    "        return IN()\n",
    "    except StopIteration:\n",
    "        raise EOFError\n",
    "\n",
    "\n",
    "### 以下にコード C075\n",
    "\n",
    "N, M = map(int, input().split())\n",
    "point = 0\n",
    "for _ in range(M):\n",
    "    tmp = int(input())\n",
    "    if point >= tmp:\n",
    "        point -= tmp\n",
    "        print(N, int(point))\n",
    "    else:\n",
    "        point += tmp / 10\n",
    "        N -= tmp\n",
    "        print(N, int(point))"
   ]
  },
  {
   "cell_type": "code",
   "execution_count": 13,
   "metadata": {},
   "outputs": [
    {
     "name": "stdout",
     "output_type": "stream",
     "text": [
      "71\n"
     ]
    }
   ],
   "source": [
    "IN = iter(Input.split(\"\\n\")).__next__\n",
    "\n",
    "\n",
    "def input():\n",
    "    try:\n",
    "        return IN()\n",
    "    except StopIteration:\n",
    "        raise EOFError\n",
    "\n",
    "\n",
    "### 以下にコード C015\n",
    "\n",
    "num = int(input())\n",
    "ans = 0\n",
    "\n",
    "for i in range(num):\n",
    "    tmp = list(input().split())\n",
    "    if tmp[0].count(\"3\"):\n",
    "        ans += int(float(tmp[1]) * 3 / 100)\n",
    "    elif tmp[0].count(\"5\"):\n",
    "        ans += int(float(tmp[1]) * 5 / 100)\n",
    "    else:\n",
    "        ans += int(float(tmp[1]) * 1 / 100)\n",
    "\n",
    "print(ans)"
   ]
  },
  {
   "cell_type": "code",
   "execution_count": 12,
   "metadata": {},
   "outputs": [
    {
     "name": "stdout",
     "output_type": "stream",
     "text": [
      "146\n"
     ]
    }
   ],
   "source": [
    "IN = iter(Input.split(\"\\n\")).__next__\n",
    "\n",
    "\n",
    "def input():\n",
    "    try:\n",
    "        return IN()\n",
    "    except StopIteration:\n",
    "        raise EOFError\n",
    "\n",
    "\n",
    "### 以下にコード C090\n",
    "\n",
    "S = list(input().replace(\"-\", \"\"))\n",
    "table = {\n",
    "    \"0\": 12,\n",
    "    \"1\": 3,\n",
    "    \"2\": 4,\n",
    "    \"3\": 5,\n",
    "    \"4\": 6,\n",
    "    \"5\": 7,\n",
    "    \"6\": 8,\n",
    "    \"7\": 9,\n",
    "    \"8\": 10,\n",
    "    \"9\": 11,\n",
    "}\n",
    "ans = 0\n",
    "for i in range(len(S)):\n",
    "    ans += table[S[i]]\n",
    "\n",
    "print(ans * 2)\n"
   ]
  },
  {
   "cell_type": "code",
   "execution_count": null,
   "metadata": {},
   "outputs": [],
   "source": [
    "IN = iter(Input.split(\"\\n\")).__next__\n",
    "\n",
    "\n",
    "def input():\n",
    "    try:\n",
    "        return IN()\n",
    "    except StopIteration:\n",
    "        raise EOFError\n",
    "\n",
    "\n",
    "### 以下にコード C017\n",
    "oya = list(map(int, input().split()))\n",
    "n = int(input())\n",
    "\n",
    "for _ in range(n):\n",
    "    tmp = list(map(int, input().split()))\n",
    "    if tmp[0] < oya[0] or (tmp[0] == oya[0] and tmp[1] > oya[1]):\n",
    "        print(\"High\")\n",
    "    else:\n",
    "        print(\"Low\")\n"
   ]
  },
  {
   "cell_type": "code",
   "execution_count": 9,
   "metadata": {},
   "outputs": [
    {
     "name": "stdout",
     "output_type": "stream",
     "text": [
      "13\n",
      "0\n",
      "10\n"
     ]
    }
   ],
   "source": [
    "IN = iter(Input.split(\"\\n\")).__next__\n",
    "\n",
    "\n",
    "def input():\n",
    "    try:\n",
    "        return IN()\n",
    "    except StopIteration:\n",
    "        raise EOFError\n",
    "\n",
    "\n",
    "### 以下にコード C098\n",
    "\n",
    "p_Num = int(input())\n",
    "\n",
    "s_list = []\n",
    "for i in range(p_Num):\n",
    "    s_list.append(int(input()))\n",
    "\n",
    "\n",
    "m_Num = int(input())\n",
    "\n",
    "for i in range(m_Num):\n",
    "    a, b, x = map(int, input().split())\n",
    "    if s_list[a - 1] - x < 0:\n",
    "        s_list[b - 1] += s_list[a - 1]\n",
    "        s_list[a - 1] = 0\n",
    "\n",
    "    else:\n",
    "        s_list[a - 1] -= x\n",
    "        s_list[b - 1] += x\n",
    "\n",
    "print(*s_list, sep=\"\\n\")"
   ]
  },
  {
   "cell_type": "code",
   "execution_count": 30,
   "metadata": {},
   "outputs": [
    {
     "name": "stdout",
     "output_type": "stream",
     "text": [
      "3\n",
      "1\n",
      "2\n",
      "3\n"
     ]
    }
   ],
   "source": [
    "IN = iter(Input.split(\"\\n\")).__next__\n",
    "\n",
    "\n",
    "def input():\n",
    "    try:\n",
    "        return IN()\n",
    "    except StopIteration:\n",
    "        raise EOFError\n",
    "\n",
    "\n",
    "### 以下にコード C130\n",
    "\n",
    "num = int(input())\n",
    "count = [0]\n",
    "\n",
    "for i in range(1, num + 1):\n",
    "    tmp = input()\n",
    "    if tmp == \"n n\" or tmp == \"n y\" or tmp == \"y n\":\n",
    "        count.append(i)\n",
    "\n",
    "count[0] = len(count) - 1\n",
    "\n",
    "print(*count, sep=\"\\n\")\n"
   ]
  },
  {
   "cell_type": "code",
   "execution_count": 17,
   "metadata": {},
   "outputs": [
    {
     "name": "stdout",
     "output_type": "stream",
     "text": [
      "x\n",
      "x\n",
      "x\n",
      "x\n",
      "x\n",
      "x\n",
      "x\n",
      "x\n",
      "x\n",
      "x\n",
      "x\n",
      "A\n",
      "B\n",
      "B\n",
      "A\n",
      "x\n",
      "x\n",
      "x\n",
      "x\n",
      "x\n",
      "x\n",
      "x\n",
      "x\n",
      "x\n",
      "x\n",
      "A\n",
      "B\n",
      "A\n",
      "x\n",
      "x\n",
      "x\n"
     ]
    }
   ],
   "source": [
    "IN = iter(Input.split(\"\\n\")).__next__\n",
    "\n",
    "\n",
    "def input():\n",
    "    try:\n",
    "        return IN()\n",
    "    except StopIteration:\n",
    "        raise EOFError\n",
    "\n",
    "\n",
    "### 以下にコード C102\n",
    "\n",
    "num_a = int(input())\n",
    "A_list = tuple((int(input())) for _ in range(num_a))\n",
    "num_b = int(input())\n",
    "B_list = tuple((int(input())) for _ in range(num_b))\n",
    "switcher = True\n",
    "\n",
    "for i in range(1, 32):\n",
    "    if i in A_list and i in B_list:\n",
    "        print(\"A\" * switcher + \"B\" * (not switcher))\n",
    "        switcher = not switcher\n",
    "    elif i in A_list:\n",
    "        print(\"A\")\n",
    "    elif i in B_list:\n",
    "        print(\"B\")\n",
    "    else:\n",
    "        print(\"x\")"
   ]
  },
  {
   "cell_type": "code",
   "execution_count": 41,
   "metadata": {},
   "outputs": [
    {
     "name": "stdout",
     "output_type": "stream",
     "text": [
      "7\n"
     ]
    }
   ],
   "source": [
    "IN = iter(Input.split(\"\\n\")).__next__\n",
    "\n",
    "\n",
    "def input():\n",
    "    try:\n",
    "        return IN()\n",
    "    except StopIteration:\n",
    "        raise EOFError\n",
    "\n",
    "\n",
    "### 以下にコード C049\n",
    "\n",
    "Num = int(input())\n",
    "\n",
    "log_list = [int(input()) for _ in range(Num)]\n",
    "ans = abs(log_list[0] - 1)\n",
    "\n",
    "for i in range(Num - 1):\n",
    "    ans += abs(log_list[i + 1] - log_list[i])\n",
    "\n",
    "print(ans)"
   ]
  },
  {
   "cell_type": "code",
   "execution_count": 18,
   "metadata": {},
   "outputs": [
    {
     "name": "stdout",
     "output_type": "stream",
     "text": [
      "Yes\n"
     ]
    }
   ],
   "source": [
    "IN = iter(Input.split(\"\\n\")).__next__\n",
    "\n",
    "\n",
    "def input():\n",
    "    try:\n",
    "        return IN()\n",
    "    except StopIteration:\n",
    "        raise EOFError\n",
    "\n",
    "\n",
    "### 以下にコード C114\n",
    "\n",
    "Num = int(input())\n",
    "\n",
    "text_list = []\n",
    "Ans = []\n",
    "\n",
    "for _ in range(Num):\n",
    "    text_list.append(input())\n",
    "\n",
    "for i in range(Num - 1):\n",
    "    if text_list[i][-1] != text_list[i + 1][0]:\n",
    "        Ans.append(text_list[i][-1])\n",
    "        Ans.append(text_list[i + 1][0])\n",
    "\n",
    "if len(Ans) > 1:\n",
    "    print(*Ans[:2])\n",
    "else:\n",
    "    print(\"Yes\")\n"
   ]
  }
 ],
 "metadata": {
  "kernelspec": {
   "display_name": "Python 3",
   "language": "python",
   "name": "python3"
  },
  "language_info": {
   "codemirror_mode": {
    "name": "ipython",
    "version": 3
   },
   "file_extension": ".py",
   "mimetype": "text/x-python",
   "name": "python",
   "nbconvert_exporter": "python",
   "pygments_lexer": "ipython3",
   "version": "3.10.11"
  },
  "orig_nbformat": 4
 },
 "nbformat": 4,
 "nbformat_minor": 2
}
